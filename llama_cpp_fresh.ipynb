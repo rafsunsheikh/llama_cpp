{
 "cells": [
  {
   "cell_type": "code",
   "execution_count": 1,
   "metadata": {},
   "outputs": [],
   "source": [
    "from langchain.document_loaders import DirectoryLoader, TextLoader\n",
    "from langchain.text_splitter import RecursiveCharacterTextSplitter\n",
    "from langchain.embeddings import HuggingFaceEmbeddings\n",
    "from langchain.vectorstores import FAISS\n",
    "from langchain.llms import CTransformers\n",
    "from langchain.llms import LlamaCpp\n",
    "from langchain import PromptTemplate\n",
    "from langchain.chains import RetrievalQA\n",
    "from langchain.callbacks.manager import CallbackManager\n",
    "from langchain.callbacks.streaming_stdout import StreamingStdOutCallbackHandler\n",
    "from IPython.display import display, HTML\n",
    "from langchain.chains import LLMChain\n",
    "import json\n",
    "import time\n",
    "import pathlib\n",
    "from langchain_community.document_loaders import WebBaseLoader"
   ]
  },
  {
   "cell_type": "markdown",
   "metadata": {},
   "source": [
    "### **Consume Information from the Documents (.txt)**"
   ]
  },
  {
   "cell_type": "code",
   "execution_count": null,
   "metadata": {},
   "outputs": [],
   "source": [
    "# define what documents to load\n",
    "loader = DirectoryLoader(\"./data/\", glob=\"*.txt\", loader_cls=TextLoader)\n",
    "\n",
    "# interpret information in the documents\n",
    "documents = loader.load()\n",
    "splitter = RecursiveCharacterTextSplitter()\n",
    "texts = splitter.split_documents(documents)\n",
    "embeddings = HuggingFaceEmbeddings(\n",
    "    model_name=\"sentence-transformers/all-MiniLM-L6-v2\",\n",
    "    model_kwargs={'device': 'cpu'})\n",
    "\n",
    "# create and save the local database\n",
    "db = FAISS.from_documents(texts, embeddings)\n",
    "db.save_local(\"faiss\")"
   ]
  },
  {
   "cell_type": "markdown",
   "metadata": {},
   "source": [
    "### **Load data from web**"
   ]
  },
  {
   "cell_type": "code",
   "execution_count": 2,
   "metadata": {},
   "outputs": [],
   "source": [
    "loader = WebBaseLoader(\"https://en.wikipedia.org/wiki/Muhammad_Yunus\")"
   ]
  },
  {
   "cell_type": "code",
   "execution_count": 3,
   "metadata": {},
   "outputs": [
    {
     "name": "stderr",
     "output_type": "stream",
     "text": [
      "/media/mdrafsunsheikh/10784ce9-f796-443d-b973-fe6ae114c687/home/Study/Projects/llama_cpp/env/lib/python3.11/site-packages/tqdm/auto.py:21: TqdmWarning: IProgress not found. Please update jupyter and ipywidgets. See https://ipywidgets.readthedocs.io/en/stable/user_install.html\n",
      "  from .autonotebook import tqdm as notebook_tqdm\n"
     ]
    }
   ],
   "source": [
    "data = loader.load()\n",
    "splitter = RecursiveCharacterTextSplitter()\n",
    "texts = splitter.split_documents(data)\n",
    "embeddings = HuggingFaceEmbeddings(\n",
    "    model_name=\"sentence-transformers/all-MiniLM-L6-v2\",\n",
    "    model_kwargs={'device': 'cpu'})\n",
    "\n",
    "# create and save the local database\n",
    "db = FAISS.from_documents(texts, embeddings)\n",
    "db.save_local(\"faiss\")"
   ]
  },
  {
   "cell_type": "code",
   "execution_count": 4,
   "metadata": {},
   "outputs": [
    {
     "data": {
      "text/plain": [
       "[Document(page_content='\\n\\n\\n\\nMuhammad Yunus - Wikipedia\\n\\n\\n\\n\\n\\n\\n\\n\\n\\n\\n\\n\\n\\n\\n\\n\\n\\n\\n\\n\\n\\n\\n\\n\\n\\n\\n\\n\\n\\n\\n\\n\\n\\n\\n\\n\\nJump to content\\n\\n\\n\\n\\n\\n\\n\\nMain menu\\n\\n\\n\\n\\n\\nMain menu\\nmove to sidebar\\nhide\\n\\n\\n\\n\\t\\tNavigation\\n\\t\\n\\n\\nMain pageContentsCurrent eventsRandom articleAbout WikipediaContact usDonate\\n\\n\\n\\n\\n\\n\\t\\tContribute\\n\\t\\n\\n\\nHelpLearn to editCommunity portalRecent changesUpload file\\n\\n\\n\\n\\n\\nLanguages\\n\\nLanguage links are at the top of the page.\\n\\n\\n\\n\\n\\n\\n\\n\\n\\n\\n\\n\\n\\n\\n\\n\\n\\n\\n\\nSearch\\n\\n\\n\\n\\n\\n\\n\\n\\n\\n\\n\\nSearch\\n\\n\\n\\n\\n\\n\\n\\n\\n\\n\\n\\n\\n\\n\\n\\n\\n\\n\\n\\n\\n\\n\\n\\n\\n\\n\\n\\n\\n\\nCreate account\\n\\nLog in\\n\\n\\n\\n\\n\\n\\n\\n\\nPersonal tools\\n\\n\\n\\n\\n\\n Create account Log in\\n\\n\\n\\n\\n\\n\\t\\tPages for logged out editors learn more\\n\\n\\n\\nContributionsTalk\\n\\n\\n\\n\\n\\n\\n\\n\\n\\n\\n\\n\\n\\n\\n\\n\\n\\n\\n\\n\\n\\n\\n\\n\\n\\n\\n\\n\\nContents\\nmove to sidebar\\nhide\\n\\n\\n\\n\\n(Top)\\n\\n\\n\\n\\n\\n1Early life and education\\n\\n\\n\\nToggle Early life and education subsection\\n\\n\\n\\n\\n\\n1.1Early years\\n\\n\\n\\n\\n\\n\\n\\n1.2After graduation\\n\\n\\n\\n\\n\\n\\n\\n\\n\\n2Early career\\n\\n\\n\\n\\n\\n\\n\\n3Recognition\\n\\n\\n\\n\\n\\n\\n\\n4Political activity\\n\\n\\n\\n\\n\\n\\n\\n5Controversies\\n\\n\\n\\nToggle Controversies subsection\\n\\n\\n\\n\\n\\n5.1Accusation of \\'loan sharking\\' and effectiveness of microfinance\\n\\n\\n\\n\\n\\n\\n\\n5.2Political motivations behind the allegations\\n\\n\\n\\n\\n\\n\\n\\n5.3Allegations involving partners: the food case and the phone case\\n\\n\\n\\n\\n\\n\\n\\n5.4Criticism of ideas\\n\\n\\n\\n\\n\\n\\n\\n\\n\\n6Trials\\n\\n\\n\\nToggle Trials subsection\\n\\n\\n\\n\\n\\n6.1Background\\n\\n\\n\\n\\n\\n\\n\\n6.2From friends to foe\\n\\n\\n\\n\\n\\n\\n\\n6.3Historical description\\n\\n\\n\\n\\n\\n\\n\\n6.4Proceedings\\n\\n\\n\\n\\n\\n\\n\\n6.5From 2012\\n\\n\\n\\n\\n\\n\\n\\n\\n\\n7Personal life\\n\\n\\n\\n\\n\\n\\n\\n8Yunus Centre\\n\\n\\n\\n\\n\\n\\n\\n9Publications\\n\\n\\n\\n\\n\\n\\n\\n10Documentaries\\n\\n\\n\\n\\n\\n\\n\\n11Legacy and honours\\n\\n\\n\\n\\n\\n\\n\\n12See also\\n\\n\\n\\n\\n\\n\\n\\n13References\\n\\n\\n\\n\\n\\n\\n\\n14Further reading\\n\\n\\n\\n\\n\\n\\n\\n15External links\\n\\n\\n\\n\\n\\n\\n\\n\\n\\n\\n\\n\\n\\n\\n\\n\\n\\nToggle the table of contents\\n\\n\\n\\n\\n\\n\\n\\nMuhammad Yunus\\n\\n\\n\\n93 languages\\n\\n\\n\\n\\nአማርኛالعربيةAragonésArpetanঅসমীয়াAsturianuAzərbaycancaবাংলাBân-lâm-gúБашҡортсаБеларускаяБеларуская (тарашкевіца)БългарскиBoarischCatalàČeštinaCymraegDanskDeutschEestiΕλληνικάEspañolEsperantoEuskaraفارسیFrançaisGalego한국어Հայերենहिन्दीHrvatskiIdoBahasa IndonesiaÍslenskaItalianoעבריתJawaಕನ್ನಡქართულიҚазақшаKurdîКыргызчаLatinaLatviešuLëtzebuergeschLietuviųLa .lojban.MagyarमैथिलीMalagasyമലയാളംमराठीمصرىمازِرونیBahasa MelayuМонголNederlandsनेपाली日本語Norsk bokmålNorsk nynorskOʻzbekcha / ўзбекчаਪੰਜਾਬੀپنجابیPiemontèisPlattdüütschPolskiPortuguêsRuna SimiРусскийСаха тылаSicilianuSimple EnglishSlovenščinaСрпски / srpskiSrpskohrvatski / српскохрватскиSuomiSvenskaதமிழ்Татарча / tatarçaไทยТоҷикӣTürkçeTürkmençeУкраїнськаاردوTiếng ViệtWalonWinaray吴语Yorùbá粵語中文\\n\\nEdit links\\n\\n\\n\\n\\n\\n\\n\\n\\n\\n\\n\\nArticleTalk\\n\\n\\n\\n\\n\\nEnglish\\n\\n\\n\\n\\n\\n\\n\\n\\n\\n\\n\\n\\n\\n\\n\\n\\n\\nReadEditView history\\n\\n\\n\\n\\n\\n\\n\\nTools\\n\\n\\n\\n\\n\\nTools\\nmove to sidebar\\nhide\\n\\n\\n\\n\\t\\tActions\\n\\t\\n\\n\\nReadEditView history\\n\\n\\n\\n\\n\\n\\t\\tGeneral\\n\\t\\n\\n\\nWhat links hereRelated changesUpload fileSpecial pagesPermanent linkPage informationCite this pageGet shortened URLWikidata item\\n\\n\\n\\n\\n\\n\\t\\tPrint/export\\n\\t\\n\\n\\nDownload as PDFPrintable version\\n\\n\\n\\n\\n\\n\\t\\tIn other projects\\n\\t\\n\\n\\nWikimedia CommonsWikiquote\\n\\n\\n\\n\\n\\n\\n\\n\\n\\n\\n\\n\\n\\n\\n\\n\\n\\n\\n\\n\\n\\n\\n\\n\\n\\nFrom Wikipedia, the free encyclopedia\\n\\n\\nBangladeshi banker, economist and Nobel Peace Prize recipient\\n\\n\\nFor other people with similar names, see Mohammad Yunus (disambiguation).\\nMuhammad Yunusমুহাম্মদ ইউনূসYunus in 2013Born (1940-06-28) 28 June 1940 (age\\xa083)Chittagong, Bengal Presidency, British India (now Bangladesh)NationalityBangladeshiOccupation(s)Economist, EntrepreneurAcademic careerInstitutionUniversity of ChittagongMiddle Tennessee State UniversityGlasgow Caledonian UniversityFieldMicrocredit theoryDevelopment economicsSchool\\xa0ortraditionMicrocreditAlma\\xa0materUniversity of Dhaka (BA, MA)Vanderbilt University (PhD)ContributionsGrameen BankMicrocreditSocial businessAwardsNobel Peace Prize (2006) \\nPresidential Medal of Freedom (2009)\\n\\nCongressional Gold Medal (2010)Information at IDEAS\\xa0/\\xa0RePEc\\nWebsitehttps://muhammadyunus.org/Signature\\nMuhammad Yunus (born 28 June 1940) is a Bangladeshi social entrepreneur, banker, economist and civil society leader who was awarded the Nobel Peace Prize in 2006 for founding the Grameen Bank and pioneering the concepts of microcredit and microfinance.[1] These loans are given to entrepreneurs too poor to qualify for traditional bank loans. Yunus and the Grameen Bank were jointly awarded the Nobel Peace Prize \"for their efforts through microcredit to create economic and social development from below\". The Norwegian Nobel Committee said that \"lasting peace cannot be achieved unless large population groups find ways in which to break out of poverty\" and that \"across cultures and civilizations, Yunus and Grameen Bank have shown that even the poorest of the poor can work to bring about their own development\".[2] Yunus has received several other national and international honours. He received the United States Presidential Medal of Freedom in 2009 and the Congressional Gold Medal in 2010.[3]\\nIn February 2011, Yunus together with Saskia Bruysten, Sophie Eisenmann and Hans Reitz co-founded Yunus Social Business – Global Initiatives (YSB). YSB creates and empowers social businesses to address and solve social problems around the world. As the international implementation arm for Yunus\\' vision of a new, humane capitalism, YSB manages incubator funds for social businesses in developing countries and provides advisory services to companies, governments, foundations and NGOs.\\nIn 2012, he became Chancellor of Glasgow Caledonian University in Scotland, a position he held until 2018.[4][5] Previously, he was a professor of economics at Chittagong University in Bangladesh.[6] He published several books related to his finance work. He is a founding board member of Grameen America and Grameen Foundation, which support microcredit.\\nYunus also served on the board of directors of the United Nations Foundation, a public charity to support UN causes, from 1998 to 2021.[7]\\n\\n\\nEarly life and education[edit]\\nEarly years[edit]\\nYunus as a Boy Scout, in 1953\\nYunus visiting Chittagong Collegiate School, in 2003\\nThe third of nine children,[8] Muhammad Yunus was born on 28 June 1940 to a Bengali Muslim family in the village of Bathua, by the Kaptai road in Hathazari, Chittagong in the Bengal Presidency of the British Raj, present Bangladesh.[9][10] His father was Hazi Dula Mia Shoudagar, a jeweler, and his mother was Sufia Khatun. His early childhood was spent in the village. In 1944, his family moved to the city of Chittagong, and he moved from his village school to Lamabazar Primary School.[9][11] By 1949, his mother was afflicted with psychological illness.[10] Later, he passed the matriculation examination from Chittagong Collegiate School ranking 16th of 39,000 students in East Pakistan.[11] During his school years, he was an active Boy Scout, and travelled to West Pakistan and India in 1952, and to Canada in 1955 to attend Jamborees.[11] Later, while Yunus was studying at Chittagong College, he became active in cultural activities and won awards for drama.[11] In 1957, he enrolled in the Department of Economics at Dhaka University and completed his BA in 1960 and MA in 1961.\\n\\nAfter graduation[edit]\\nAfter his graduation, Yunus joined the Bureau of Economics as a research assistant to the economics researches of Nurul Islam and Rehman Sobhan.[11] Later, he was appointed lecturer in economics in Chittagong College in 1961.[11] During that time, he also set up a profitable packaging factory on the side.[10]  In 1965, he received a Fulbright scholarship to study in the United States. He obtained his PhD in economics from the Vanderbilt University Graduate Program in Economic Development (GPED)[12] in 1971.[13] From 1969 to 1972, Yunus was assistant professor of economics at Middle Tennessee State University in Murfreesboro.\\nDuring the Bangladesh Liberation War in 1971, Yunus founded a citizen\\'s committee and ran the Bangladesh Information Center, with other Bangladeshis in the United States, to raise support for liberation.[11] He also published the Bangladesh Newsletter from his home in Nashville. After the War, he returned to Bangladesh and was appointed to the government\\'s Planning Commission headed by Nurul Islam. However, he found the job boring and resigned to join Chittagong University as head of the Economics department.[14]  After observing the famine of 1974, he became involved in poverty reduction and established a rural economic programme as a research project. In 1975, he developed a Nabajug (New Era) Tebhaga Khamar (three share farm) which the government adopted as the Packaged Input Programme.[11] In order to make the project more effective, Yunus and his associates proposed the Gram Sarkar (the village government) programme.[15]\\nIntroduced by president Ziaur Rahman in the late 1970s, the Government formed 40,392 village governments as a fourth layer of government in 2003. On 2 August 2005, in response to a petition by Bangladesh Legal Aids and Services Trust (BLAST), the High Court declared village governments illegal and unconstitutional.[16]\\nHis concept of microcredit for supporting innovators in multiple developing countries also inspired programmes such as the Info lady Social Entrepreneurship Programme.[17][18][19]\\n\\nEarly career[edit]\\nMain article: Grameen Bank\\nFurther information: Grameen family of organizations\\nGrameen Bank Head Office at Mirpur-2, Dhaka\\nIn 1976, during visits to the poorest households in the village of Jobra near Chittagong University, Yunus discovered that very small loans could make a disproportionate difference to a poor person. Village women who made bamboo furniture had to take usurious loans to buy bamboo, and repay their profits to the lenders. Traditional banks did not want to make tiny loans at reasonable interest to the poor due to high risk of default.[20] But Yunus believed that, given the chance, the poor will not need to repay the money and hence microcredit was a viable business model.[21]  Yunus lent US$27 of his money to 42 women in the village, who made a profit of BDT 0.50 (US$0.02) each on the loan.  Thus, Yunus is credited with the idea of microcredit.\\nIn December 1976, Yunus finally secured a loan from the government Janata Bank to lend to the poor in Jobra. The institution continued to operate, securing loans from other banks for its projects. By 1982, it had 28,000 members. On 1 October 1983, the pilot project began operation as a full-fledged bank for poor Bangladeshis and was renamed Grameen Bank (\"Village Bank\").By July 2007, Grameen had issued US$6.38\\xa0billion to 7.4\\xa0million borrowers.[22] To ensure repayment, the bank uses a system of \"solidarity groups\". These small informal groups apply together for loans and its members act as co-guarantors of repayment and support one another\\'s efforts at economic self-advancement.[15]\\nIn the late 1980s, Grameen started to diversify by attending to underutilized fishing ponds and irrigation pumps like deep tube wells.[23] In 1989, these diversified interests started growing into separate organisations. The fisheries project became Grameen Motsho (\"Grameen Fisheries Foundation\") and the irrigation project became Grameen Krishi (\"Grameen Agriculture Foundation\").[23] In time, the Grameen initiative grew into a multi-faceted group of profitable and non-profit ventures, including major projects like Grameen Trust and Grameen Fund, which runs equity projects like Grameen Software Limited, Grameen CyberNet Limited, and Grameen Knitwear Limited,[24] as well as Grameen Telecom, which has a stake in Grameenphone (GP), the biggest private phone company in Bangladesh.[25] From its start in March 1997 to 2007, GP\\'s Village Phone (Polli Phone) project had brought cell-phone ownership to 260,000 rural poor in over 50,000 villages.[26]\\n\\n\\n\\nIn 1974 we ended up with a famine in the country. People were dying of hunger and not having enough to eat. And that\\'s a terrible situation to see around you. And I was feeling terrible that here I teach elegant theories of economics, and those theories are of no use at the moment with the people who are going hungry. So I wanted to see if as a person, as a human being, I could be of some use to some people.\\n\\n\\n- Muhammad Yunus while talking about reason behind creating Grameen Bank[27]\\n\\n\\nThe success of the Grameen microfinance model inspired similar efforts in about 100 developing countries and even in developed countries including the United States.[28] Many microcredit projects retain Grameen\\'s emphasis of lending to women. More than 94% of Grameen loans have gone to women, who suffer disproportionately from poverty and who are more likely than men to devote their earnings to their families.[29]\\nFor his work with Grameen, Yunus was named an Ashoka: Innovators for the Public Global Academy Member in 2001.[30] In the book[31] Grameen Social Business Model, its author Rashidul Bari said that Grameen\\'s social business model (GSBM) has gone from being theory to an inspiring practice adopted by leading universities (e.g., Glasgow), entrepreneurs (e.g., Franck Riboud) and corporations (e.g., Danone) across the globe. Through Grameen Bank, Rashidul Bari claims that Yunus demonstrated how Grameen Social Business Model can harness the entrepreneurial spirit to empower poor women and alleviate their poverty. One conclusion Bari suggested to draw from Yunus\\' concepts is that the poor are like a \"bonsai tree\", and they can do big things if they get access to the social business that holds potential to empower them to become self-sufficient.\\n\\nRecognition[edit]\\nMain article: List of awards received by Muhammad Yunus\\nYunus was awarded the 2006 Nobel Peace Prize, along with Grameen Bank, for their efforts to create economic and social development. In the prize announcement The Norwegian Nobel Committee mentioned:[2]\\n\\nYunus at the Grand Hotel in Oslo, Norway\\nMuhammad Yunus has shown himself to be a leader who has managed to translate visions into practical action for the benefit of millions of people, not only in Bangladesh, but also in many other countries. Loans to poor people without any financial security had appeared to be an impossible idea. From modest beginnings three decades ago, Yunus has, first and foremost through Grameen Bank, developed micro-credit into an ever more important instrument in the struggle against poverty.\\nYunus was the first Bangladeshi to ever get a Nobel Prize. After receiving the news of the important award, Yunus announced that he would use part of his share of the $1.4\\xa0million (equivalent to $2.03\\xa0million in 2022) award money to create a company to make low-cost, high-nutrition food for the poor; while the rest would go towards establishing the Yunus Science and Technology University in his home district as well as setting up an eye hospital for the poor in Bangladesh.[32]\\nFormer U.S. president Bill Clinton was a vocal advocate for the awarding of the Nobel Prize to Yunus. He expressed this in Rolling Stone magazine[33] as well as in his autobiography My Life.[34] In a speech given at University of California, Berkeley in 2002, President Clinton described Yunus as \"a man who long ago should have won the Nobel Prize [in Economics and] I\\'ll keep saying that until they finally give it to him.\"[35] Conversely, The Economist stated explicitly that while Yunus was doing excellent work to fight poverty, it was not appropriate to award him the Peace Prize, stating: \"...\\xa0the Nobel committee could have made a braver, more difficult, choice by declaring that there would be no recipient at all.\"[36]\\n\\nYunus at the Annual Meeting 2009 of the World Economic Forum in Davos, Switzerland\\nHe is one of only seven persons to have won the Nobel Peace Prize, Presidential Medal of Freedom,[37] and the Congressional Gold Medal.[38] Other notable awards include the Ramon Magsaysay Award in 1984,[15] the World Food Prize,[39] the International Simon Bolivar Prize (1996),[40] the Prince of Asturias Award for Concord[41] and the Sydney Peace Prize in 1998,[42]  and the Seoul Peace Prize in 2006. Additionally, Yunus has been awarded 50 honorary doctorate degrees from universities across 20 countries, and 113 international awards from 26 countries including state honours from 10 countries.[43][44][45] Bangladesh government brought out a commemorative stamp to honour his Nobel Award.[46]\\nYunus was named by Fortune Magazine in March 2012 as one of 12 greatest entrepreneurs of the current era.[47] In its citation, Fortune Magazine said \"Yunus\\' idea inspired countless numbers of young people to devote themselves to social causes all over the world.\"\\nIn January 2008, Houston, Texas declared 14 January as \"Muhammad Yunus Day\".[48]\\nYunus was named among the most desired thinkers the world should listen to by the FP 100 (world\\'s most influential elite) in the December 2009 issue of Foreign Policy magazine.[49]\\n\\nYunus with Brazilian President Lula Da Silva in 2008 after winning Nobel Peace Prize\\nIn 2010, The British Magazine New Statesman listed Yunus at 40th in the list of \"The World\\'s 50 Most Influential Figures 2010\".[50]\\n\\nYunus with Global health expert Dr Edmond at the UN University in Tokyo\\nYunus received 50 honorary doctorate degrees from universities from Argentina, Australia, Bangladesh, Belgium, Canada, Costa Rica, India, Italy, Japan, Korea, Lebanon, Malaysia, Peru, Russia, South Africa, Spain, Thailand, Turkey, the UK, and the US.[51]\\nUnited Nations Secretary General, Ban Ki-Moon, invited Yunus to serve as an MDG Advocate. Yunus sits on the Board of United Nations Foundation, Schwab Foundation, Prince Albert II of Monaco Foundation, Grameen Credit Agricole Microcredit Foundation. He has been a member of Fondation Chirac\\'s honour committee,[52] ever since the foundation was launched in 2008 by former French president Jacques Chirac in order to promote world peace.\\nYunus has become a well-known international figure. He has delivered numerous lectures around the world,[53][54][55][56][57] and has appeared on popular television shows, including The Daily Show with Jon Stewart and The Oprah Winfrey Show in 2006, The Colbert Report in 2008, Real Time with Bill Maher in 2009 and The Simpsons in 2010.[citation needed] On Google+, Yunus is one of the most followed people worldwide, with over two million followers.[58]\\n\\nPolitical activity[edit]\\nYunus (right) at a book signing at the London School of Economics\\nSee also: Nagorik Shakti\\nIn early 2006 Yunus, along with other members of the civil society including Rehman Sobhan, Muhammad Habibur Rahman, Kamal Hossain, Matiur Rahman, Mahfuz Anam and Debapriya Bhattacharya, participated in a campaign for honest and clean candidates in national elections.[59] He considered entering politics in the later part of that year.[60] On 11 February 2007, Yunus wrote an open letter, published in the Bangladeshi newspaper Daily Star, where he asked citizens for views on his plan to float a political party to establish political goodwill, proper leadership and good governance. In the letter, he called on everyone to briefly outline how he should go about the task and how they can contribute to it.[61] Yunus finally announced that he is willing to launch a political party tentatively called Citizens\\' Power (Nagorik Shakti) on 18 February 2007.[62][63] There was speculation that the army supported a move by Yunus into politics.[64] On 3 May, however, Yunus declared that he had decided to abandon his political plans following a meeting with the head of the interim government, Fakhruddin Ahmed.[65]\\nIn July 2007 in Johannesburg, South Africa, Nelson Mandela, Graça Machel and Desmond Tutu convened a group of world leaders \"to contribute their wisdom, independent leadership and integrity to tackle some of the world\\'s toughest problems.\"[66] Nelson Mandela announced the formation of this new group, The Elders, in a speech he delivered on the occasion of his 89th birthday.[67] Yunus attended the launch of the group and was one of its founding members. He stepped down as an Elder in September 2009, stating that he was unable to do justice to his membership due to the demands of his work.[68]\\nYunus is a member of the Africa Progress Panel (APP), a group of ten distinguished individuals who advocate at the highest levels for equitable and sustainable development in Africa. Every year, the Panel releases a report, the Africa Progress Report, that outlines an issue of immediate importance to the continent and suggests a set of associated policies.[69]\\nIn July 2009, Yunus became a member of the SNV Netherlands Development Organisation International Advisory Board to support the organisation\\'s poverty reduction work.[70]\\nSince 2010, Yunus has served as a Commissioner for the Broadband Commission for Digital Development, a UN initiative which seeks to use broadband internet services to accelerate social and economic development.[71]\\nIn March 2016, he was appointed by United Nations Secretary-General Ban Ki-moon to the High-Level Commission on Health Employment and Economic Growth, which was co-chaired by presidents François Hollande of France and Jacob Zuma of South Africa.[72] Following the Rohingya genocide in 2016–2017, Yunus urged Myanmar to end violence against Rohingya Muslims.[73]\\n\\nControversies[edit]\\nThe Bangladeshi Government[which?] announced a review of Grameen Bank activities on 11 January 2011,[74] which is ongoing[needs update?]. In February, several international leaders, such as Mary Robinson, stepped up their defence of Yunus through a number of efforts, including the founding of a formal network of supporters known as \"Friends of Grameen\".[75]\\nOn 15 February 2011, the Finance Minister of Bangladesh, Abul Maal Abdul Muhith, declared that Yunus should \"stay away\" from Grameen Bank while it is being investigated.[76] On 2 March 2011, Muzammel Huq – a former Bank employee, whom the government had appointed chairman in January[77] – announced that Yunus had been fired as managing director of the Bank.[78] However, Bank General Manager Jannat-E Quanine issued a statement that Yunus was \"continuing in his office\" pending review of the legal issues surrounding the controversy .[79]\\nIn March 2011, Yunus petitioned the Bangladesh High Court challenging the legality of the decision by the Bangladeshi Central Bank to remove him as managing director of Grameen Bank.[80] The same day, nine elected directors of Grameen Bank filed a second petition.[81] U.S. Senator John Kerry expressed his support to Yunus in a statement on 5 March 2011 and declared that he was \"deeply concerned\" by this affair.[82] The same day in Bangladesh, thousands of people protested and formed human chains to support Yunus.[83]\\nThe High Court hearing on the petitions, was planned for 6 March 2011 but postponed. On 8 March 2011, the Court confirmed Yunus\\'s dismissal.[84]\\n\\nAccusation of \\'loan sharking\\' and effectiveness of microfinance[edit]\\nYunus at an opening ceremony of his new book in New York City in 2008\\nThe allegations against Muhammad Yunus and Grameen Bank were made in a context where some people began to question the effectiveness of microfinance, prompted by the actions of some for-profit microfinance institutions (MFIs) in India and Mexico.[85] Coercion, peer pressure and physical harassment were reportedly used as loan repayment practices in some specific MFIs.[86] Commercialisation of microcredit[87] prompted Yunus to state that he \"never imagined that one day microcredit would give rise to its own breed of loan sharks.\"[88]\\nThe lure of profits attracted some for-profit MFIs to hold initial public offerings (IPOs), including the largest Indian MFI, SKS Microfinance, which held an IPO in July 2010.[89] In September 2010, Yunus criticised the IPO; in a debate with SKS founder Vikram Akula during the Clinton Global Initiative meeting,[90] he said, \"Microcredit is not about exciting people to make money off the poor. That\\'s what you\\'re doing. That\\'s the wrong message completely.\"\\nCalculations of actual interest rate vary, but one estimate puts average Grameen rates at about a 23% interest rate (comparable to the inflation rate).[91]\\n\\nPolitical motivations behind the allegations[edit]\\nThough Grameen Bank was quickly cleared by the Norwegian government of all allegations surrounding misused or misappropriated funds in December 2010, in March 2011 the Bangladeshi government launched a three-month investigation of all Grameen Bank\\'s activities.[74] This inquiry prevented Muhammad Yunus from participating in the World Economic Forum.[92]\\nIn January 2011, Yunus appeared in court in a defamation case filed by a local politician from a minor left-leaning party in 2007, complaining about a statement that Yunus made to the AFP news agency, \"Politicians in Bangladesh only work for power. There is no ideology here\".[93] At the hearing, Yunus was granted bail and exempted from personal appearance at subsequent hearings.[94]\\nThese investigations fueled suspicion that many attacks might be politically motivated,[95] due to difficult relations between Sheikh Hasina and Yunus since early 2007, when Yunus created his own political party, an effort he dropped in May 2007.[65]\\n\\nAllegations involving partners: the food case and the phone case[edit]\\nOn 27 January 2011, Yunus appeared in court in a food-adulteration case filed by the Dhaka City Corporation (DCC) Food Safety Court, accusing him of producing an \"adulterated\" yogurt[96] whose fat content was below the legal minimum. This yogurt is produced by Grameen Danone, a social business joint venture between Grameen Bank and Danone that aims to provide opportunities for street vendors who sell the yogurt and to improve child nutrition with the nutrient-fortified yogurt. According to Yunus\\'s lawyer, the allegations are \"false and baseless\".[97] At the request of Yunus\\'s lawyers, pointing procedural irregularities and errors, this case is now considered by the High Court.\\nInvestigation by a 2012 independent public commission examining the Grameen Bank assert that Yunus misrepresented his authority and abused his powers during his tenure in management.  The report establishes that legal challenges exist for authority of the Grameen Bank to have acted as guarantor and to have forwarded credit to independent private enterprises during Yunus\\'s tenure. The report raised specific questions relating to (a) establishment and financing of Grameenphone, a for-profit telecommunications entity initially established as a trust for the Grameen Bank borrowers together with Norwegian majority state-owned multinational Telenor by Yunus, and (b) simultaneous management and operational financing of private enterprises established by Yunus applying resources of the Grameen Bank.  The commission also examined the legal status of the Grameen Bank and concluded that it was de jure public i.e. government entity, of which incompetent oversight by the state and (potentially unwitting) misrepresentation by Yunus in past resulted in the popular perception of the private ownership.  The commission report refers to obstruction of commission investigations by current Grameen Bank management, representatives of Telenor, the Government of Bangladesh, and by partisans of Yunus. Full implications of the report are thus far not closely examined in either state-controlled elements of Bangladeshi media, or by pro-Yunus press releases, where these implicate Yunus as at least accessory to corruption at the nexus of the Bangladeshi public-commercial establishment, in collusion with other parties.[98]\\n\\nCriticism of ideas[edit]\\nSee also: Impact of microcredit\\nMicrofinance has been criticised in the foreign media. The Guardian (UK) asked whether microfinance was a \\'neoliberal fairytale\\'. The article pointed out criticisms including that most loans are not used to create small businesses, but instead \\'consumption smoothing\\'.[99]\\n\\nTrials[edit]\\nThis section may require copy editing.  (January 2024) (Learn how and when to remove this template message)\\nYunus faced 174 lawsuits in Bangladesh, 172 of which are civil cases, since the Awami League and Sheikh Hasina retained power following a flawed election in 2014.[100]  Allegations include labour law violations, corruption, money laundering, which Yunus allege are politically motivated.[101]\\nThe trial of Muhammad Yunus[102] is the series of trials launched by Prime Minister Hasina against Yunus. The former put the latter on trial in 2010 and ultimately removed him from Grameen Bank,[103] citing that he was too old to run the Bank which he founded in 1983.[104] In 2013, he was put on trial for a second time because he had supposedly received earnings without the necessary permission from the government, including his Nobel Peace Prize earnings and the royalties from his book sales.[105] The article claims that this series of trials against Yunus[106] has puzzled figures worldwide, from the 8.3\\xa0million[107] underprivileged[108] women of Grameen Bank[109] to U.S. President Barack Obama.[110][111] Likening Hasina\\'s political vendetta against Yunus[112][113] to a modern-day replay of the conflict between Archimedes and General Marcellus,[114][115] the article predicts that the \"banker to the poor\"[20] may face a fate similar to the father of mathematics for asking Hasina not to disturb the Grameen Bank.[102][116][117] Vikas Bajaj wrote in the Taking Note editorial blog of The New York Times on 7 November 2013:\\n\\nThe government of Bangladesh has played its trump card in its long-running campaign against Grameen Bank and its founder Muhammad Yunus. Last week, legislators passed a law that effectively nationalizes the bank, which pioneered the idea of making small loans to poor women, by wresting control of it from the 8.4\\xa0million rural women that own a majority of its shares.[118]On 1 January 2024, a court in Bangladesh sentenced Yunus to a six-months prison term, along with three employees from Grameen Telecom for labor law violations. However, the court granted bail to all of them pending appeals.[119] AMNESTY declared Yunus\\' conviction a blatant abuse of the justice system.[120]Muhammad Yunus, Nobel Peace Prize, 2006\\nBackground[edit]\\nFor many years, Yunus remained a follower of Hasina\\'s father, Sheikh Mujib, the founding father of Bangladesh.[121] While teaching at Middle Tennessee State University,[122] Yunus founded the Bangladesh Citizen\\'s Committee (BCC), as a response to West Pakistan\\'s aggression against Bangladesh and its leader Sheikh Mujib.[123] After the outbreak of the war of liberation, the BCC selected Yunus to become editor of its newly published Bangladesh News Letter.[124] Inspired by the birth of Bangladesh in 1971, Yunus returned home in 1972, to help Mujib rebuild the nation shattered by a long and bloody war. The relationship did not end after Mujib\\'s death. Yunus maintained a professional relationship with Mujib\\'s daughter, Hasina. Yunus appointed Hasina—along with U.S. First Lady Hillary Clinton—as co-chair of a microcredit summit held 2–4 February 1997. At this event, 50 heads of state and high-level officials from 137 nation-states gathered in Washington, DC, to discuss solutions to poverty. At this macroevent for microcredit, Hasina had nothing but praise for her fatherly figure. In her statement she praised, \"the outstanding work done by Professor Yunus and the Grameen Bank he founded.\\xa0... The success of the Grameen Bank has created optimism about the viability of banks engaged in extending micro-credit to the poor.[125] The inaugural ceremony of Grameen Phone, the largest telephone service in Bangladesh, took place at Hasina\\'s office on 26 March 1997. Using Grameen Phone, Hasina made the first call to Thorbjorn Jagland, the then-Norwegian prime minister. When her conversation ended with Jagland, she received another call, this one from Laily Begum, a Grameen telephone employee. However, this long relationship was doomed in 2007 after Yunus disclosed his intention to form a political party, Nagorik Shakti.[126]\\n\\nFrom friends to foe[edit]\\nThe Awami League government of Sheikh campaigned against Grameen and its founder, Muhammad Yunus. The New York Times reports, \" Her actions appear to be retaliation for Mr. Yunus\\'s announcement in 2007 that he would seek public office, even though he never went through with his plans\".[127] According to Times of India, one other factor contributed to her brash decision against Yunus: the Nobel Peace Prize.[128]\\nHasina thought that the Norwegian Nobel Peace Prize Committee would give her the prize for signing a peace treaty, the Chittagong Hill Tracts (CHT) in 1997. On 9 March, Attorney General Mahbubey Alam revealed the government\\'s attitude when he said, \"Prime Minister Sheikh Hasina should have been awarded the Nobel Peace Prize...\" He went on to challenge the wisdom of the Nobel committee for not awarding the prize to his master, Hasina, for the CHT accord.[129]\\n\\nHistorical description[edit]\\nOn 11 January 2007, Army General Moeen U Ahmed staged a military coup.[citation needed] Meanwhile, Yunus turned down his request to become the nation\\'s fourth Chief Advisor after Khaleda Zia\\'s term ended. Yunus, however, suggested the general pick Fakhruddin Ahmed[130] for the job. Fakhruddin took office on 11 January 2007 and made it clear on his very first day that he intended not only to arrange a free and fair election but also to clean up corruption. While Khalada and Hasina criticised Fakruddin and claimed that it was not his job to clean up corruption, Yunus expressed his satisfaction. In an interview with the AFP news agency, Yunus remarked that politicians in Bangladesh only work for money, saying, \"There is no ideology here.\"[94] Hasina had a harsh reaction to Yunus\\' comments, calling him a \"usurer who has not only failed to eradicate poverty but has also nurtured poverty.[131]\" This was Hasina\\'s first public statement against Yunus. One could make an analogy between Yunus\\' involvement as a nonpolitician and the role that Czech writer Václav Havel played in his country after the overthrow of the Communist regime. Later Yunus announced the name of this prospective political party, Nagorik Shakti (Citizen\\'s Power), saying he had a mission to enter the political arena in his nation in hope of changing its identity from \"bottomless basket\" to \"rising tiger\". However, on 3 May, Yunus published a third open letter and put his political ambitions to rest.[106]\\n\\nProceedings[edit]\\nBangladesh government launched the first trial against Yunus in December 2010, one month after the release of Caught in Micro Debt, a documentary by Tom Heinemann. Screened on Norwegian television on 30 November 2010, the film broadcast the allegation that Yunus stashed approximately $100\\xa0million[citation needed] in 1996 into Grameen Kalyan, a sister company of Grameen Bank. Yunus denied[132] the allegations. After completing a full investigation, the Norwegian government found Yunus innocent.[133]\\nYunus has also become subject to legal harassment over three criminal cases. A criminal defamation case was filed against Yunus[94] for criticising politicians in 2007. A food inspector filed another case against Yunus,[134] alleging that yogurt manufactured by the Grameen-Danone was adulterated. The final blow came on 3 March 2011. Bangladesh Bank informed Grameen in a letter that Yunus had been removed from Grameen, citing that he was older than the mandatory retirement age of 60, even though nine of the bank\\'s directors-who were elected by 8.3\\xa0million Grameen Bank borrowers-allowed him to stay on the job after he had crossed that threshold. Backed by nine boards of directors, 22\\xa0thousand employees,[135] and 8.3\\xa0million Grameen borrowers,[136] Yunus defied the government order, returned to Grameen\\'s headquarters in Dhaka, and lodged an appeal at Dhaka High Court against the decision. However, Justice Mohammad Momtazuddin Ahmed and Justice Gobinda Chandra Tagore delivered the verdict against Yunus, claiming that Yunus\\' posting as the MD of Grameen since 1999 was illegal as he had reached the age of 60 by then.[137] Backed by international leaders[138] (e.g., Hillary and Bill Clinton), national leaders (e.g., Sir Fazle Hasan Abed) and 8.3\\xa0million Grameen borrowers, Yunus filed an appeal in Bangladesh Supreme Court against the High Court\\'s verdict. The full bench of the Appellate Division headed by Chief Justice ABM Khairul Haque heard the appeal on 15 March 2011 and delivered the verdict which upheld Yunus\\' removal by the government.[139]\\n\\nFrom 2012[edit]\\nOn 2 August 2012, Sheikh Hasina\\'s approved a draft of \"Grameen Bank Ordinance 2012\"[140] to increase government control over the bank.[140] Currently, that power resides with the bank\\'s directors—consisting of nine poor women—who were elected by 8.3\\xa0million Grameen borrowers. Hasina also ordered a fresh investigation into the activities and financial transactions of Yunus[141] in his later years as managing director of Grameen, but people see the move as nothing more than an attempt to destroy his image. The prime minister also alleged that Yunus had received his earnings without the necessary permission from the government, including his Nobel Peace Prize earnings and the royalties from his books.[142]\\nOn 4 October 2013, Bangladesh\\'s cabinet has approved the draft of a new law that will give the country\\'s central bank closer control over Grameen Bank,[143] raising the stakes in a long-running dispute with the pioneering microlender. The Grameen Bank Act 2013 was approved at a cabinet meeting chaired by Prime Minister Sheikh Hasina[144] and was passed by parliament on 7 November 2013.[145] It replaced the Grameen Bank Ordinance, the law that underpinned the creation of Grameen Bank as a specialised microcredit institution in 1983.[146] The New York Times reported in August 2013:\\n\\nSince then, the government has started an investigation into the bank and is now planning to take over Grameen—a majority of whose shares are owned by its borrowers—and break it up into 19 regional lenders.[127]\\nPersonal life[edit]\\nIn 1967, while Yunus attended Vanderbilt University, he met Vera Forostenko, a student of Russian literature at Vanderbilt University and daughter of Russian immigrants to Trenton, New Jersey, United States. They were married in 1970.[10][14] Yunus\\'s marriage with Vera ended within months of the birth of their baby girl, Monica Yunus, in 1979 in Chittagong, as Vera returned to New Jersey claiming that Bangladesh was not a good place to raise a baby.[10][14] Monica became an operatic soprano based in New York City.[147] Yunus later married Afrozi Yunus, who was then a researcher in physics at Manchester University.[14] She was later appointed as a professor of physics at Jahangirnagar University. Their daughter Deena Afroz Yunus was born in 1986.[14]\\nYunus\\'s brother Muhammad Ibrahim is a former professor of physics at the University of Dhaka and the founder of The Center for Mass Education in Science (CMES), which brings science education to adolescent girls in villages.[148] His other brother Muhammad Jahangir (d. 2019) was a television presenter and a social activist in Bangladesh.[149]\\n\\nYunus Centre[edit]\\nThe Yunus Centre in Dhaka, Bangladesh, is a think tank for issues related to social business, working in the field of poverty alleviation and sustainability. It is \\'aimed primarily at promoting and disseminating Professor Yunus\\' philosophy, with a special focus on social business\\' and currently chaired by Prof. Muhammad Yunus.\\n\\nPublications[edit]\\nYunus, Muhammad (1974). Three Farmers of Jobra. Department of Economics, Chittagong University.\\n—— (1976). Planning in Bangladesh: Format, Technique, and Priority, and Other Essays; Rural Studies Project, Department of Economics. Chittagong University.\\n——; Isalama, Saiyada Manajurula; Rahman, Arifa (1991). Jorimon and Others: Faces of Poverty. Grameen Bank.\\n—— (1994). Grameen Bank, as I See it. Grameen Bank.\\n—— (1999). Banker to the Poor: Micro-Lending and the Battle Against World Poverty. New York: PublicAffairs. ISBN\\xa0978-1-58648-198-8.\\n—— (2007). Creating a World without Poverty: Social Business and the Future of Capitalism. New York: PublicAffairs. ISBN\\xa0978-1-58648-493-4.\\n—— (2010). Building Social Business: The New Kind of Capitalism that Serves Humanity\\'s Most Pressing Needs. New York: Public Affairs. ISBN\\xa0978-1-58648-824-6.\\nYunus, Muhammad, Moingeon, Bertrand and Laurence Lehmann-Ortega (2010), \"Building Social Business Models: Lessons from the Grameen Experience\", April–June, vol 43, number 2–3, Long Range Planning, pp. 308–325\\n—— (2017). A World of Three Zeroes: the new economics of zero poverty, zero unemployment, and zero carbon emissions. Scribe Publications.\\nDocumentaries[edit]\\n2000 - \"16 Decisions\"\\n2010 - To Catch a Dollar\\n2011 - Bonsai People – The Vision of Muhammad Yunus\\nLegacy and honours[edit]\\nMain article: List of awards received by Muhammad Yunus\\nIn 1998, Yunus was awarded Indira Gandhi Peace Prize as the founder of Grameen Bank[150]\\nIn 2006, awarded Nobel Peace Prize for his finance work.\\nChosen by Wharton School of Business in Philadelphia as one of The 25 Most Influential Business Persons of the Past 25 Years, covered in a PBS documentary.[151]\\nIn 2006, Time magazine ranked him as one of the top 12 business leaders, including him among \"60 years of Asian Heroes\".[152]\\nIn 2008, Yunus was voted second on the list of Top 100 Public Intellectuals in an open online poll conducted by Prospect Magazine (UK) and Foreign Policy (United States).[153]\\nIn 2009, Yunus was awarded the Golden Biatec Award, the highest award bestowed by Slovakia\\'s Informal Economic Forum Economic Club, for individuals who exhibit economic, social, scientific, educational and cultural accomplishments in the Slovak Republic.[154]\\nIn 2021, Yunus was awarded the Olympic Laurel, for his extensive work in sports for development.[155]\\nIn 2021, Yunus was awarded United Nations Foundation\\'s Champion of Global Change Award. He was given the award in recognition of his enlightened leadership and innovation to enhance human dignity, equity, and justice.[156]\\nSee also[edit]\\n\\nBangladesh portal\\nFazle Hasan Abed\\nIslamic banking\\nYunus Social Business\\nReferences[edit]\\n\\n\\n^ \"The Nobel Peace Prize 2006\". NobelPrize.org. Retrieved 9 June 2020.\\n\\n^ a b \"The Nobel Peace Prize for 2006\". Nobel Foundation. 13 October 2006. Retrieved 13 October 2006.\\n\\n^ \"House and Senate Leaders Announce Gold Medal Ceremony for Professor Muhammad Yunus\" Archived 29 August 2018 at the Wayback Machine, Press Release, US Congress\\n\\n^ \"Muhammad Yunus accepts Glasgow Caledonian University post\". BBC News. 1 July 2012.\\n\\n^ \"Muhammad Yunus Chancellor of Glasgow Caledonian University\". UK Parliament. 16 July 2012.\\n\\n^ \"Professor Muhammad Yunus\". Keough School - University of Notre Dame. Retrieved 9 June 2020.\\n\\n^ United Nations Foundation, additional text.\\n\\n^ \"About Dr. Yunus: Family\". MuhammadYunus.ORG. Archived from the original on 16 April 2008. Retrieved 14 May 2008.\\n\\n^ a b \"First loan he gave was $27 from own pocket\". The Daily Star. 14 October 2006. Retrieved 22 August 2007.\\n\\n^ a b c d e Haider, Mahtab (1 January 2007). \"Muhammad Yunus: The triumph of idealism\". New Year Special: Heroes. New Age. Archived from the original on 7 January 2007. Retrieved 11 September 2007.\\n\\n^ a b c d e f g h Yunus, Muhammad (14 October 2003). গিরেবর উপকাের লােগ োদেখ বਗ਼ োলাক অামােদর বઘাংেক টাকা জমা রাখেত এিগেয় এেসেছ ড় মઓহামઅদ ইউনકস. Prothom Alo (Interview) (in Bengali). Interviewed by Rahman, Matiur. Dhaka. Archived from the original on 12 October 2007. Retrieved 9 January 2015.\\n\\n^ \"The Graduate Program in Economic Development - Vanderbilt University …\". 11 December 2012. Archived from the original on 11 December 2012.\\n\\n^ Yunus to receive Nichols-Chancellor\\'s Medal Archived 18 June 2008 at the Wayback Machine, Vanderbilt News, 12 March 2007; Retrieved: 9 September 2007\\n\\n^ a b c d e Yunus, Muhammad; Jolis, Alan (2003). Banker to the Poor: micro-lending and the battle against world poverty. New York: Public Affairs. pp.\\xa020–29. ISBN\\xa0978-1-58648-198-8.\\n\\n^ a b c \"Yunus, Muhammad\". Ramon Magsaysay Award Foundation. Archived from the original on 14 October 2016. Retrieved 17 August 2007.\\n\\n^ \"Bangladesh: Country of Origin Information Report\". Country of Origin Information Service. UK: Border & Immigration Agency. 15 June 2007. Archived from the original (DOC) on 27 September 2007. Retrieved 9 September 2007.\\n\\n^ Hossain, Farid (1 November 2012). \"Internet Rolls Into Bangladesh Villages on a Bike\". U.S. News & World Report. Associated Press. Retrieved 21 February 2017.\\n\\n^ \"Info Ladies – Riding Internet into Rural Bangladesh!\". Amader Kotha. 8 November 2012. Archived from the original on 17 March 2014.\\n\\n^ Bouissou, Julien (30 July 2013). \"\\'Info ladies\\' go biking to bring remote Bangladeshi villages online\". The Guardian. London. Retrieved 21 February 2017.\\n\\n^ a b \"Profile: Muhammad Yunus, \\'world\\'s banker to the poor\\'\". BBC News. 2 March 2011. Retrieved 16 October 2006.\\n\\n^ Yunus, Muhammad; Jolis, Alan (2003). Banker to the Poor: micro-lending and the battle against world poverty. New York: PublicAffairs hc. pp.\\xa046–49. ISBN\\xa0978-1-58648-198-8.\\n\\n^ \"GB at a glance\", Muhammad Yunus, Grameen Info. Retrieved 9 September 2007\\n\\n^ a b Yunus, Muhammad. \"Introduction\". Grameen Family. Archived from the original on 18 June 2008. Retrieved 7 September 2007.\\n\\n^ \"Grameen Fund ventures on Grameen official website\". Grameen-info.org. Archived from the original on 12 October 2007. Retrieved 14 September 2009.\\n\\n^ \"About Grameenphone\". Grameenphone. 16 November 2006. Archived from the original on 10 August 2007. Retrieved 22 August 2007. Grameenphone is now the leading telecommunications service provider in the country with more than 10 million subscribers as of November 2006.\\n\\n^ \"Village Phone\". About Grameenphone. Grameenphone. 2006. Archived from the original on 10 August 2007. Retrieved 22 August 2007.\\n\\n^ \"Interview with Muhammad Yunus\". CNN.\\n\\n^ \"Grameen Bank, a Nobel-winning concept\". The Hindu. 23 October 2006. Retrieved 9 September 2007.\\n\\n^ Yunus, Muhammad (25 March 1997). \"World in Focus: Interview with Prof. Muhammad Yunus\". Foreign Correspondent; ABC online (Transcript of broadcast interview). Interviewed by Negus, George. Retrieved 22 August 2007.\\n\\n^ \"Muhammad Yunus, Ashoka\\'s Global Academy Member, Wins Nobel Peace Prize\". Ashoka.org. 13 October 2006. Retrieved 17 August 2007.\\n\\n^ Posman, Jerald (26 January 2008). \"In thrall to an agent of change\". The Daily Star.\\n\\n^ \"Yunus wins peace Nobel for anti-poverty efforts\". Associated Press. 13 October 2006. Retrieved 16 August 2007.\\n\\n^ Boulden, Jim (29 March 2001). \"The birth of micro credit\". CNN. Retrieved 19 August 2007.\\n\\n^ Clinton, Bill (2004). My Life: The Presidential Years. New York: Vintage Books. p.\\xa0329. ISBN\\xa0978-0-375-41457-2. Muhammad Yunus should have been awarded the Nobel Prize in Economics years ago.\\n\\n^ Ainsworth, Diane (29 January 2002). \"Transcript of the Jan. 29, 2002 talk by former President Bill Clinton at the University of California, Berkeley\". Clinton: education, economic development key to building a peaceful, global village. UC Regents. Retrieved 22 August 2007.\\n\\n^ \"Losing its Lustre\". The Economist. 13 October 2006. Retrieved 28 June 2008.\\n\\n^ \"President Obama Names Medal of Freedom Recipients\", White House Office of the Press Secretary, 30 July 2009\\n\\n^ \"Public Law 111–253—OCT. 5, 2010\" (PDF). US Government Publishing Office.\\n\\n^ \"Dr. Muhammad Yunus\". World Food Prize. Retrieved 29 August 2007.\\n\\n^ \"MUHAMMAD YUNUS RECEIVES 1996 INTERNATIONAL SIMON BOLIVAR PRIZE AT UNESCO\". UNESCO. Retrieved 13 August 2012.\\n\\n^ \"Nicolás Castellanos, Vicente Ferrer, Joaquín Sanz Gadea and Muhammad Yunus, 1998 Prince of Asturias Award for Concord\". Fundación Princesa de Asturias. Retrieved 13 August 2012.\\n\\n^ \"1998 Professor Muhammed Yunus\". Sydney Peace Foundation. Retrieved 13 August 2012.\\n\\n^ \"Awards\". Yunus Centre.\\n\\n^ \"Profile: Dr. Muhammad Yunus\". Bangladesh News. 14 October 2006. Archived from the original on 17 October 2006.\\n\\n^ \"CV of Professor Muhammad Yunus\". Yunus Centre. Archived from the original on 21 October 2015. Retrieved 1 November 2015.\\n\\n^ Sydney Peace Prize recipients, Sydney Peace Prize Foundation website; Retrieved: 9 September 2007\\n\\n^ Byrne, John A. (9 April 2012). \"The 12 greatest entrepreneurs of our time\". Fortune. Archived from the original on 24 March 2012.\\n\\n^ \"Houston mayor declares 14 January \\'Yunus Day\\'\". The Daily Star. 16 January 2008. Retrieved 16 January 2008.\\n\\n^ Sheldon, Blaine (25 November 2009). \"The Wisdom of the Smart Crowd\". Foreign Policy. Retrieved 30 November 2009.\\n\\n^ \"50 People Who Matter 2010\". New Statesman. Retrieved 2 November 2010.\\n\\n^ \"Honourary Degrees\". Yunus Centre. Archived from the original on 22 February 2013. Retrieved 13 August 2012.\\n\\n^ \"Honor Committee\". Fondation Chirac.\\n\\n^ \"Seventh Nelson Mandela Annual Lecture address – Nelson Mandela Centre of Memory\". Nelsonmandela.org. Retrieved 13 August 2012.\\n\\n^ \"Professor Muhammad Yunus\\' Commencement Speech\". Grameensocialbusiness.org. 17 May 2009. Archived from the original on 24 April 2013. Retrieved 13 August 2012.\\n\\n^ \"Yunus Speaks About Capitalism, Poverty, and the Future of \\'Social Business\\'\" – The Tech, Volume 128, Issue 28: Friday, 13 June 2008\\n\\n^ \"Adam Smith Lecture at Glasgow University\". Yunus Centre. Retrieved 13 August 2012.\\n\\n^ \"Romanes Lecture\". University of Oxford.\\n\\n^ \"Muhammad Yunus Google+ Statistics\". Socialstatistics.com. Archived from the original on 6 August 2012. Retrieved 13 August 2012.\\n\\n^ \"Parliament with honest, efficient must for development\". The New Nation. 21 March 2006. Archived from the original on 29 September 2007. Retrieved 22 August 2007.\\n\\n^ \"Yunus not willing to be caretaker chief\". The Daily Star. 18 October 2006. Retrieved 18 August 2007.\\n\\n^ \"Yunus seeks people\\'s views on floating political party\". The Daily Star. 12 February 2007. Retrieved 18 August 2007.\\n\\n^ Siddique, Islam (18 February 2007). \"Bangladesh Nobel Laureate Announces His Political Party\\'s Name\". All Headline News. Archived from the original on 20 February 2007. Retrieved 18 August 2007.\\n\\n^ \"\\'I will do politics of unity\\': Yunus names his party Nagorik Shakti\". The New Nation. 12 February 2007. 34138. Archived from the original on 27 September 2007. Retrieved 18 August 2007.\\n\\n^ Mustafa, Sabir (5 April 2007). \"Bangladesh at a crossroads\". BBC News. Retrieved 18 August 2007. At first glance, the current state of Bangladesh appears to be a paradox: a country under a state of emergency, but where the general public seem quite content.\\n\\n^ a b \"Yunus drops plans to enter politics\". Al Jazeera. 3 May 2007. Retrieved 18 August 2007.\\n\\n^ \"Nelson Mandela and Desmond Tutu announce The Elders\". TheElders.org. 18 July 2007. Retrieved 1 May 2013.\\n\\n^ \"Mandela joins \\'Elders\\' on turning 89\". NBC News. Associated Press. 20 July 2007. Retrieved 24 August 2007.\\n\\n^ \"Muhammad Yunus steps down\". TheElders.org. 21 September 2009. Archived from the original on 13 May 2013. Retrieved 1 May 2013.\\n\\n^ \"Jobs, Justice and Equity: Seizing opportunities in times of global change\". Africa Progress Panel. May 2012. Archived from the original on 9 January 2013.\\n\\n^ \"SNV Netherlands Development Organisation establishes International Advisory Board\". Snvworld.org. 8 July 2009. Archived from the original on 28 July 2011. Retrieved 12 March 2011.\\n\\n^ \"Commissionners\". Broadbandcommission.org. Archived from the original on 14 May 2010. Retrieved 12 March 2011.\\n\\n^ High-Level Commission on Health Employment and Economic Growth – Commissioners World Health Organization.\\n\\n^ \"Yunus suggests 7-point proposal for resolving Rohingya crisis\". The Daily Star. 12 September 2017.\\n\\n^ a b Ahmed, Farid (14 January 2011). \"Nobel-winning microcredit bank comes under scrutiny\". CNN. Retrieved 9 March 2011.\\n\\n^ \"Huge support for Yunus\". The Daily Star. 18 February 2011. Retrieved 9 March 2011.\\n\\n^ \"Bangladesh Nobel winner Yunus should \\'stay away\\'\". Agence France-Presse. 15 February 2011. Archived from the original on 25 May 2012. Retrieved 10 March 2011.\\n\\n^ Polgreen, Lydia (29 January 2011). \"Bangladesh Inspects Grameen Bank and Muhammad Yunus\". The New York Times.\\n\\n^ \"Bangladesh Trying To Fire Muhammad Yunus, Nobel Laureate, From Microlender Grameen\". HuffPost. 2 March 2011. Retrieved 9 March 2011.\\n\\n^ \"Statement of Grameen Bank\". Grameen. Archived from the original on 11 July 2011.\\n\\n^ \"Yunus files writ petition against his removal\". bdnews24.com. 3 March 2011. Retrieved 9 March 2011.\\n\\n^ \"Another writ petition filed challenging govt decision\". The Daily Star. 3 March 2011. Retrieved 9 March 2011.\\n\\n^ \"US senator Kerry \\'deeply concerned\\' at Yunus removal\". Daily Nation. Agence France-Presse. 5 March 2011. Retrieved 29 June 2017.\\n\\n^ Alam, Shafiq (5 March 2011). \"Thousands in Bangladesh protest at Yunus sacking\". Yahoo News. Agence France-Presse. Retrieved 28 March 2011.\\n\\n^ \"Bangladesh judge confirms Yunus sacking\". Business Recorder. Karachi. Agence France-Presse. 8 March 2011. Retrieved 9 March 2011.\\n\\n^ Epstein, Keith (13 December 2007). \"Compartamos: From Nonprofit to Profit\". Bloomberg BusinessWeek. Archived from the original on 17 December 2007. Retrieved 9 March 2011.\\n\\n^ \"The need for a balanced development policy\". The Morung Express. Retrieved 10 March 2011.\\n\\n^ \"Profit-focused MFIs are loan sharks: Yunus\". The Times of India. 21 February 2011. Retrieved 10 March 2011.\\n\\n^ \"Sacrificing Microcredit for Megaprofits\". Yunus Centre. Archived from the original on 10 February 2011. Retrieved 10 March 2011.\\n\\n^ Kinetz, Erika (28 July 2010). \"SKS Launches India\\'s First Microfinance IPO\". Bloomberg Businessweek. Associated Press. Archived from the original on 23 June 2015. Retrieved 10 March 2011.\\n\\n^ Bahree, Megha (11 October 2010). \"A Big Split Over Microfinance\". Forbes. Retrieved 10 March 2011.\\n\\n^ \"Quick: What\\'s the Grameen Bank\\'s Interest Rate?\". Center For Global Development.\\n\\n^ \"Social Entrepreneurs Impact World Leaders\". Schwab Foundation for Social Entrepreneurship. 25 January 2011. Archived from the original on 2 February 2011. Retrieved 10 March 2011.\\n\\n^ Hafez Ahmed. \"Prof Yunus appears in court today\". Newstoday.com.bd. Retrieved 10 March 2011.\\n\\n^ a b c \"Grameen\\'s Muhammad Yunus in court for defamation case\". BBC News. 18 January 2011. Retrieved 10 March 2011.\\n\\n^ Jason Burke (21 February 2011). \"Microfinance guru Muhammad Yunus faces removal from Grameen Bank\". The Guardian. London. Retrieved 10 March 2011.\\n\\n^ Farid Ahmed (28 January 2011). \"Bangladeshi Nobel laureate faces fresh legal trouble at home\". CNN. Retrieved 12 March 2011.\\n\\n^ \"Contaminated yoghurt lands Yunus in dock\". Deccan Chronicle. Agence France-Presse. 28 January 2011. Archived from the original on 13 February 2011. Retrieved 12 March 2011.\\n\\n^ \"Interim report of the Grameen Bank Commission\" (PDF). Ministry of Finance of the Government of Bangladesh. Archived from the original (PDF) on 3 March 2017. Retrieved 2 March 2017.\\n\\n^ Bunting, Madeleine (9 March 2011). \"Is microfinance a neoliberal fairytale?\". The Guardian. Retrieved 9 March 2011.\\n\\n^ \"Nobel laureate Yunus faces 174 cases in Bangladesh\". New Age. 8 September 2023. Retrieved 9 October 2023.\\n\\n^ \"Nobel laureate Yunus faces 174 cases in Bangladesh\". New Age. 8 September 2023. Retrieved 9 October 2023.\\n\\n^ a b \"The never-ending trial of Muhammad Yunus\". The Times of India. 19 September 2013. Retrieved 8 July 2015.\\n\\n^ \"Yunus slams \\'destruction\\' of Grameen\". Dawn. 7 November 2013. Retrieved 8 July 2015.\\n\\n^ \"Microfinance guru Muhammad Yunus faces removal from Grameen Bank\". The Guardian. Retrieved 8 July 2015.\\n\\n^ \"Muhammad Yunus Accused of Tax Evasion, Bangladesh To Take Legal Action Against Nobel Laureate\". HuffPost. Associated Press. Archived from the original on 14 September 2013. Retrieved 8 July 2015.\\n\\n^ a b Bornstein, David (17 April 2013). \"Beyond Profit: A Talk With Muhammad Yunus\". Opinionator (Opinion). Retrieved 8 July 2015.\\n\\n^ Bornstein, David (22 August 2012). \"An Attack on Grameen Bank, and the Cause of Women\". Opinionator (Opinion). Retrieved 8 July 2015.\\n\\n^ Nolan, Rachel (9 March 2011). \"Did \\'Hingsha\\' Do In a Nobel Prize Winner?\". The 6th Floor (Opinion). Retrieved 8 July 2015.\\n\\n^ Sengupta, Somini (19 February 2007). \"A Nobel Prizewinner\\'s Hat Alters the Political Ring in Bangladesh\". The New York Times. Retrieved 8 July 2015.\\n\\n^ Southall, Ashley (30 July 2009). \"Obama to Award Medals of Freedom to 16\". The Caucus (Opinion). Retrieved 8 July 2015.\\n\\n^ Farid Ahmed. \"Bangladesh asked to find a compromise to end bank crisis\". CNN. Retrieved 8 July 2015.\\n\\n^ শেখ হাসিনার প্রতিহিংসার শিকার ড. ইউনূস. The Daily Sangram (in Bengali). Archived from the original on 9 July 2015. Retrieved 8 July 2015.\\n\\n^ \"Nobel laureate Yunus loses fight to keep job at microlender\". USA Today. Retrieved 8 July 2015.\\n\\n^ Bhuiyan, Mohammad. \"Professor Yunus: Grameen Bank and Bangladeshi politics\". Daily Sun. Dhaka. Archived from the original on 10 November 2013.\\n\\n^ \"Bangladesh government\\'s religious body targets Nobel winner Yunus\". Dawn. 24 October 2013. Retrieved 8 July 2015.\\n\\n^ \"Saint under siege\". The Economist. 5 January 2011.\\n\\n^ \"Bangladesh: Corruption Allegations Against Muhammad Yunus (Taken Question)\". state.gov. Retrieved 8 July 2015.\\n\\n^ Vikas Bajaj (13 November 2013). \"A Hostile Bank Takeover\". Taking Note. The New York Times. Retrieved 6 August 2016.\\n\\n^ \"Nobel winner Yunus convicted in Bangladesh labour law case\". Yahoo News. 1 January 2024. Retrieved 1 January 2024.\\n\\n^ Report, Star Digital (1 January 2024). \"Yunus conviction a blatant abuse of justice system: Amnesty\". The Daily Star. Retrieved 2 January 2024.\\n\\n^ \"Home – FATHER OF BENGALEE NATION\". bangabandhuporisad.webs.com. Retrieved 8 July 2015.\\n\\n^ \"Middle Tennessee State University | Middle Tennessee State University\". mtsu.edu. Retrieved 8 July 2015.\\n\\n^ \"The role of Muhammad Yunus in the Bangladesh Liberation War and thereafter\". The Financial Express. Dhaka. Retrieved 8 July 2015.\\n\\n^ \"Yunus on Congressional medal\". bdnews24.com. Retrieved 8 July 2015.\\n\\n^ \"Hasina vs Yunus\". Himal. Archived from the original on 5 March 2011. Retrieved 8 July 2015.\\n\\n^ \"Yunus names his political party Nagorik Shakti\". bdnews24.com. Retrieved 8 July 2015.\\n\\n^ a b \"Bangladesh Takes Aim at Grameen Bank\". The New York Times (Opinion). 6 August 2013. Retrieved 8 July 2015.\\n\\n^ প্রধানমন্ত্রী শেখ হাসিনার হিংসা আর ভয়ের কারণই ড. ইউনূসের সাথে দন্দ্বঃ টাইমস অব ইন্ডিয়া [Prime Minister Sheikh Hasina\\'s jealousy and fear is the reason. Doubts with Yunus: The Times of India]. Amader Shomoy (in Bengali). Archived from the original on 23 September 2013. Retrieved 8 July 2015.\\n\\n^ Bari, R. (2011). Grameen Social Business Model: A Manifesto for Proletariat Revolution. AuthorHouse. p.\\xa0158. ISBN\\xa09781468565652. Retrieved 8 July 2015.\\n\\n^ \"Dr Fakhruddin caretaker head of Bangladesh\". Oneindia. 12 January 2007. Retrieved 8 July 2015.\\n\\n^ \"Usurers up in arms to usurp politics, Hasina tells cultural activists\". bdnews24.com. 17 February 2007. Retrieved 8 July 2015.\\n\\n^ \"Letter to Mr. Alex Counts\" (PDF). Archived from the original (PDF) on 3 December 2013. Retrieved 28 November 2013.\\n\\n^ \"A person is innocent until found guilty\". The Daily Star. 11 December 2010. Retrieved 8 July 2015.\\n\\n^ \"Yunus secures bail in Shakti Doi adulteration case\". Archived from the original on 3 December 2013. Retrieved 8 July 2015.\\n\\n^ \"Employees protest change in GB law\". The Daily Star. 7 November 2013.\\n\\n^ \"GB staff give govt 15 days to make Yunus bank\\'s chair\". New Age. Archived from the original on 3 December 2013. Retrieved 8 July 2015.\\n\\n^ \"Yunus removal upheld\". The Daily Star. Retrieved 8 July 2015.\\n\\n^ \"Bangladesh chides Clinton for microlender comments\". CNN. Retrieved 8 July 2015.\\n\\n^ \"Bangladesh Supreme Court rejects Dr. Yunus\\' appeal\". The Hindu. 5 April 2011. Archived from the original on 6 October 2023.\\n\\n^ a b \"US worried over Grameen Bank future\". bdnews24.com. Retrieved 8 July 2015.\\n\\n^ \"Microfinance pioneer Muhammad Yunus accused of tax evasion\". The Guardian. Retrieved 8 July 2015.\\n\\n^ \"Bangladesh: Nobel laureate Muhammad Yunus faces tax probe\". BBC News. Retrieved 8 July 2015.\\n\\n^ \"Grameen Bank Faces Greater Controls\". The Wall Street Journal. Retrieved 8 July 2015.\\n\\n^ Rahman, Md. Fazlur (8 November 2013). \"Vote for parties that will return old GB\". The Daily Star.\\n\\n^ \"Passing of Grameen Bank Act, 2013\". The Daily Star. 8 November 2013.\\n\\n^ \"JS passes Grameen Bank law\". The Daily Star. 5 November 2013.\\n\\n^ \"Monica Yunus, Soprano\". Biography. VoxPagel.com. Archived from the original (asp) on 27 January 2007. Retrieved 2 September 2007.\\n\\n^ \"History Center for Mass Education in Science\". Retrieved 10 July 2019.\\n\\n^ \"Muhammad Jahangir passes away\". The Daily Star. 10 July 2019. Retrieved 10 July 2019.\\n\\n^ Grameen Bank Website accessed 2 November 2006. Archived 14 May 2008 at the Wayback Machine\\n\\n^ \"25 Most Influential\". Nightly Business Report. PBS. Archived from the original on 1 August 2008. Retrieved 13 August 2012.\\n\\n^ Tharoo, Ishaan (13 November 2006). \"Asian Heroes: Muhammad Yunus\". Time. Retrieved 9 January 2015.\\n\\n^ \"Intellectuals\". Prospect Magazine. 2009. Archived from the original on 30 September 2009. Retrieved 13 August 2012.\\n\\n^ \"Dr Yonus awarded Golden Biatec 2008\". The Financial Express. Dhaka. 13 October 2010.\\n\\n^ Report, Star Sport (23 July 2021). \"Nobel laureate Yunus awarded prestigious Olympic Laurel\". The Daily Star. Retrieved 13 August 2021.\\n\\n^ Dr Yunus receives United Nations Foundation’s Champion of Global Change Award, The Daily Star, 14 December 2021\\n\\n\\nFurther reading[edit]\\nBornstein, David (1996). The Price of a Dream: The Story of the Grameen Bank and the Idea that is Helping the Poor to Change Their Lives. Simon & Schuster. ISBN\\xa0978-0-684-81191-8.\\nKallol, Asif Showkat (1 November 2013). \"Female directors vow to stop GB law\". Dhaka Tribune. Archived from the original on 20 December 2016. Retrieved 8 July 2015.\\nPakiam, Ranjeetha; Mehrotra, Kartikay (6 November 2013). \"Yunus Sees New Law Spelling Beginning of the End for Grameen\". Bloomberg Businessweek. Archived from the original on 15 November 2013. Retrieved 8 July 2015.\\n\"Yunus not enjoying respect he deserves\". The Financial Express. Dhaka. 14 November 2013. Archived from the original on 20 December 2016. Retrieved 8 July 2015.\\nExternal links[edit]\\n\\n\\nMuhammad Yunus  at Wikipedia\\'s sister projects\\n\\nMedia from CommonsNews from WikinewsQuotations from WikiquoteTexts from WikisourceData from Wikidata\\n\\nOfficial website \\nMuhammad Yunus biography at Grameen Bank\\nMuhammad Yunus on Nobelprize.org  with the Nobel lecture 10 December 2006\\nExclusive Interview with Educational Technology Magazine\\nযে কারণে ইউনূসের বিরুদ্ধে হাসিনা | জাতীয় | কালের কণ্ঠ. Kaler Kantho (in Bengali). 20 September 2013. Retrieved 8 July 2015.\\nAppearances on C-SPAN\\nMuhammad Yunus at IMDb\\nMuhammad Yunus collected news and commentary at The New York Times\\nMuhammad Yunus collected news and commentary at The Guardian \\n\\n\\n\\n\\nAwards and achievements\\n\\n\\nPreceded\\xa0byHe Kang\\n\\n World Food Prize 1994\\n\\nSucceeded\\xa0byHans R. Herren\\n\\n\\nAcademic offices\\n\\n\\nPreceded\\xa0byGus Macdonald\\n\\n Chancellor of Glasgow Caledonian University 2012–2018\\n\\nSucceeded\\xa0byAnnie Lennox\\n\\n\\nvteLaureates of the Nobel Peace Prize1901–1925\\n1901: Henry Dunant\\xa0/ Frédéric Passy\\n1902: Élie Ducommun\\xa0/ Charles Gobat\\n1903: Randal Cremer\\n1904: Institut de Droit International\\n1905: Bertha von Suttner\\n1906: Theodore Roosevelt\\n1907: Ernesto Moneta\\xa0/ Louis Renault\\n1908: Klas Arnoldson\\xa0/ Fredrik Bajer\\n1909: A. M. F. Beernaert\\xa0/ Paul Estournelles de Constant\\n1910: International Peace Bureau\\n1911: Tobias Asser\\xa0/ Alfred Fried\\n1912: Elihu Root\\n1913: Henri La Fontaine\\n1914\\n1915\\n1916\\n1917: International Committee of the Red Cross\\n1918\\n1919: Woodrow Wilson\\n1920: Léon Bourgeois\\n1921: Hjalmar Branting\\xa0/ Christian Lange\\n1922: Fridtjof Nansen\\n1923\\n1924\\n1925: Austen Chamberlain\\xa0/ Charles Dawes\\n1926–1950\\n1926: Aristide Briand\\xa0/ Gustav Stresemann\\n1927: Ferdinand Buisson\\xa0/ Ludwig Quidde\\n1928\\n1929: Frank B. Kellogg\\n1930: Nathan Söderblom\\n1931: Jane Addams\\xa0/ Nicholas Butler\\n1932\\n1933: Norman Angell\\n1934: Arthur Henderson\\n1935: Carl von Ossietzky\\n1936: Carlos Saavedra Lamas\\n1937: Robert Cecil\\n1938: Nansen International Office for Refugees\\n1939\\n1940\\n1941\\n1942\\n1943\\n1944: International Committee of the Red Cross\\n1945: Cordell Hull\\n1946: Emily Balch\\xa0/ John Mott\\n1947: Friends Service Council\\xa0/ American Friends Service Committee\\n1948\\n1949: John Boyd Orr\\n1950: Ralph Bunche\\n1951–1975\\n1951: Léon Jouhaux\\n1952: Albert Schweitzer\\n1953: George C. Marshall\\n1954: United Nations High Commissioner for Refugees\\n1955\\n1956\\n1957: Lester B. Pearson\\n1958: Georges Pire\\n1959: Philip Noel-Baker\\n1960: Albert Luthuli\\n1961: Dag Hammarskjöld\\n1962: Linus Pauling\\n1963: International Committee of the Red Cross\\xa0/ League of Red Cross Societies\\n1964: Martin Luther King Jr.\\n1965: UNICEF\\n1966\\n1967\\n1968: René Cassin\\n1969: International Labour Organization\\n1970: Norman Borlaug\\n1971: Willy Brandt\\n1972\\n1973: Lê Đức Thọ\\xa0(declined award)\\xa0/ Henry Kissinger\\n1974: Seán MacBride\\xa0/ Eisaku Satō\\n1975: Andrei Sakharov\\n1976–2000\\n1976: Betty Williams\\xa0/ Mairead Corrigan\\n1977: Amnesty International\\n1978: Anwar Sadat\\xa0/ Menachem Begin\\n1979: Mother Teresa\\n1980: Adolfo Pérez Esquivel\\n1981: United Nations High Commissioner for Refugees\\n1982: Alva Myrdal\\xa0/ Alfonso García Robles\\n1983: Lech Wałęsa\\n1984: Desmond Tutu\\n1985: International Physicians for the Prevention of Nuclear War\\n1986: Elie Wiesel\\n1987: Óscar Arias\\n1988: UN Peacekeeping Forces\\n1989: Tenzin Gyatso (14th Dalai Lama)\\n1990: Mikhail Gorbachev\\n1991: Aung San Suu Kyi\\n1992: Rigoberta Menchú\\n1993: Nelson Mandela\\xa0/ F. W. de Klerk\\n1994: Shimon Peres\\xa0/ Yitzhak Rabin\\xa0/ Yasser Arafat\\n1995: Pugwash Conferences\\xa0/ Joseph Rotblat\\n1996: Carlos Belo\\xa0/ José Ramos-Horta\\n1997: International Campaign to Ban Landmines\\xa0/ Jody Williams\\n1998: John Hume\\xa0/ David Trimble\\n1999: Médecins Sans Frontières\\n2000: Kim Dae-jung\\n2001–present\\n2001: United Nations\\xa0/ Kofi Annan\\n2002: Jimmy Carter\\n2003: Shirin Ebadi\\n2004: Wangari Maathai\\n2005: International Atomic Energy Agency\\xa0/ Mohamed ElBaradei\\n2006: Grameen Bank\\xa0/ Muhammad Yunus\\n2007: Al Gore\\xa0/ Intergovernmental Panel on Climate Change\\n2008: Martti Ahtisaari\\n2009: Barack Obama\\n2010: Liu Xiaobo\\n2011: Ellen Johnson Sirleaf\\xa0/ Leymah Gbowee\\xa0/ Tawakkol Karman\\n2012: European Union\\n2013: Organisation for the Prohibition of Chemical Weapons\\n2014: Kailash Satyarthi\\xa0/ Malala Yousafzai\\n2015: Tunisian National Dialogue Quartet\\n2016: Juan Manuel Santos\\n2017: International Campaign to Abolish Nuclear Weapons\\n2018: Denis Mukwege\\xa0/ Nadia Murad\\n2019: Abiy Ahmed\\n2020: World Food Programme\\n2021: Maria Ressa\\xa0/ Dmitry Muratov\\n2022: Ales Bialiatski\\xa0/ Memorial\\xa0/ Center for Civil Liberties\\n2023: Narges Mohammadi\\n2024: to be announced\\n\\nvte2006 Nobel Prize laureatesChemistry\\nRoger D. Kornberg (United States)\\nLiterature (2006)\\nOrhan Pamuk (Turkey)\\nPeace\\nMuhammad Yunus (Bangladesh)\\nGrameen Bank (Bangladesh)\\nPhysics\\nJohn C. Mather (United States)\\nGeorge Smoot (United States)\\nPhysiology or Medicine\\nAndrew Fire (United States)\\nCraig Mello (United States)\\nEconomic Sciences\\nEdmund Phelps (United States)\\n\\nNobel Prize recipients\\n2001\\n2002\\n2003\\n2004\\n2005\\n2006 \\n2007\\n2008\\n2009\\n2010\\n2011\\n\\nvteSydney Peace Prize laureates\\nMuhammad Yunus (1998)\\nDesmond Tutu (1999)\\nXanana Gusmão (2000)\\nWilliam Deane (2001)\\nMary Robinson (2002)\\nHanan Ashrawi (2003)\\nArundhati Roy (2004)\\nOlara Otunnu (2005)\\nIrene Khan (2006)\\nHans Blix (2007)\\nPat Dodson (2008)\\nJohn Pilger (2009)\\nVandana Shiva (2010)\\nNoam Chomsky (2011)\\nSekai Holland (2012)\\nCynthia Maung (2013)\\nJulian Burnside (2014)\\nGeorge Gittoes (2015)\\nNaomi Klein (2016)\\nBlack Lives Matter (2017)\\nJoseph Stiglitz (2018)\\n#MeToo Movement (2019)\\nMidnight Oil (2020)\\nUluru Statement from the Heart (2021–22)\\nNazanin Boniadi (2023)\\n\\nvteRamon Magsaysay Award recipientsGovernment Service (1958–2008)\\xa0Cambodia\\nEk Sonn Chan\\n\\xa0China\\nYuan Longping\\n\\xa0India\\nC.D. Deshmukh\\nJ. M. Lyngdoh\\n\\xa0Indonesia\\nRaden Kodijat\\nAli Sadikin\\n\\xa0Japan\\nMorihiko Hiramatsu\\nHiroshi Kuroki\\nYukiharu Miki\\n\\xa0Laos\\nKeo Viphakone\\n\\xa0Malaysia\\nMohamed Suffian Mohamed Hashim\\nB. C. Shekhar\\n\\xa0Pakistan\\nAkhtar Hameed Khan\\nIbn Abdur Rehman\\n\\xa0Philippines\\nJose Vasquez Aguilar\\nFrancisca Reyes-Aquino\\nHilario Davide Jr.\\nGrace Padaca\\nJesse Robredo\\nJovito R. Salonga\\nMiriam Defensor Santiago\\nHaydee Yorac\\n\\xa0Singapore\\nGoh Keng Swee\\n\\xa0Thailand\\nAnand Panyarachun\\nChamlong Srimuang\\nJon Ungphakorn\\nPhon Sangsingkeo\\nPrawase Wasi\\nPuey Ungpakorn\\n\\xa0Taiwan\\nShih-chu Hsu\\nLi Kwoh-ting\\nJiang Menglin\\nPublic Service (1958–2008)\\xa0Burma\\nTee Tee Luce\\n\\xa0Ceylon\\nMary H. Rutnam\\n\\xa0China\\nGao Yaojie\\nJiang Yanyong\\nLiang Congjie\\nWu Qing\\n\\xa0India\\nBaba Amte\\nBanoo Jehangir Coyaji\\nManibhai Desai\\nJayaprakash Narayan\\nV. Shanta\\n\\xa0Indonesia\\nH.B. Jassin\\nTeten Masduki\\n\\xa0Pakistan\\nRuth Pfau\\n\\xa0Philippines\\nPedro Orata\\nCenter for Agriculture and Rural Development Mutually Reinforcing Institutions (CARD MRI)\\n\\xa0South Korea\\nKim Sun-tae\\nPark Won-soon\\n\\xa0Spainbased in \\xa0Philippines\\nJoaquin Villalonga\\n\\xa0Thailand\\nFua Hariphitak\\nMechai Viravaidya\\nNilawan Pintong\\nPhra Parnchand\\nPrateep Ungsongtham Hata\\nSirindhorn\\nSithiporn Kridakara\\nSophon Suphapong\\nTherdchai Jivacate\\nThongbai Thongpao\\nCommunity Leadership (1958–2008)\\xa0Bangladesh\\nTahrunessa Abdullah\\nFazle Hasan Abed\\nMuhammad Yunus\\nZafrullah Chowdhury\\nMohammed Yeasin\\nAngela Gomes\\n\\xa0Burma\\nCynthia Maung\\n\\xa0India\\nMandakini Amte & Prakash Amte\\nMabelle Arole & Rajanikant Arole\\nPandurang Shastri Athavale\\nChandi Prasad Bhatt\\nEla Bhatt\\nVinoba Bhave\\nAruna Roy\\nShantha Sinha\\nRajendra Singh\\n\\xa0Japan\\nFusaye Ichikawa\\n\\xa0Laos\\nSombath Somphone\\n\\xa0Malaysia\\nTunku Abdul Rahman\\n\\xa0\\xa0\\xa0Nepal\\nMahabir Pun\\n\\xa0Philippines\\nGawad Kalinga Community Development Foundation\\nAntonio Meloto\\n\\xa0Thailand\\nAree Valyasevi\\nKrasae Chanawongse\\nPrayong Ronnarong\\n\\xa0Tibet\\n14th Dalai Lama\\nJournalism, Literature, and the Creative Communication Arts (1958–2008)\\xa0Bangladesh\\nMatiur Rahman\\nAbdullah Abu Sayeed\\n\\xa0Burma\\nEdward Michael Law-Yone\\n\\xa0Ceylonor \\xa0Sri Lanka\\nWannakuwatta Amaradeva\\nTarzie Vittachi\\n\\xa0India\\nMahasweta Devi\\nPalagummi Sainath\\nAmitabha Chowdhury\\n\\xa0Indonesia\\nAtmakusuma Astraatmadja\\nMochtar Lubis\\n\\xa0Japan\\nAkira Kurosawa\\nYasuji Hanamori\\nMichiko Ishimure\\nAkio Ishii\\n\\xa0\\xa0\\xa0Nepal\\nBharat Koirala\\n\\xa0Philippines\\nZacarias Sarian\\nF. Sionil José\\nLino Brocka\\nRadio Veritas\\nJames Reuter\\nBienvenido Lumbera\\nNick Joaquin\\nRaul Locsin\\nEugenia Duran Apostol\\nSheila Coronel\\n\\xa0Thailand\\nPrayoon Chanyavongs\\n\\xa0Great Britainbased in \\xa0Philippines\\nRobert McCulloch Dick\\nPeace and International Understanding (1958–2008)\\xa0China\\nTang Xiyang\\n\\xa0India\\nMother Teresa\\nJockin Arputham\\nLaxminarayan Ramdas\\n\\xa0Indonesia\\nAhmad Syafi\\'i Maarif\\n\\xa0Japan\\nIkuo Hirayama\\nTetsu Nakamura\\nSaburo Okita\\nSeiei Toyama\\n\\xa0\\xa0\\xa0Nepal\\nSanduk Ruit\\n\\xa0Pakistan\\nIbn Abdur Rehman\\n\\xa0Philippines\\nOperation Brotherhood\\nSummer Institute of Linguistics\\nWilliam Masterson\\nHarold Ray Watson\\nInternational Institute of Rural Reconstruction\\nPress Foundation of Asia\\nAsian Institute of Management\\nCorazon Aquino\\n\\xa0South Korea\\nPomnyun Sunim\\n\\xa0Thailand\\nAsian Institute of Technology\\nThe Royal Project\\n\\xa0United Statesbased in \\xa0Thailand\\nGenevieve Caulfield\\nEmergent Leadership (2001–)\\xa0Burma\\nKa Hsaw Wa\\n\\xa0China\\nChen Guangcheng\\n\\xa0Cambodia\\nOung Chanthol\\n\\xa0India\\nSanjiv Chaturvedi\\nArvind Kejriwal\\nNileema Mishra\\nSandeep Pandey\\n\\xa0Indonesia\\nAmbrosius Ruwindrijarto\\nDita Indah Sari\\n\\xa0Philippines\\nBenjamin Abadiano\\n\\xa0South Korea\\nYoon Hye-ran\\n\\xa0Sri Lanka\\nAnanda Galappatti\\n\\xa0East Timor\\nAniceto Guterres Lopes\\n\\xa0United Statesbased in \\xa0Hong Kong\\nChung To\\nUncategorized (2009–)\\xa0Bangladesh\\nSyeda Rizwana Hasan\\nA.H.M. Noman Khan\\n\\xa0Cambodia\\nYang Saing Koma\\nKoul Panha\\n\\xa0China\\nFu Qiping\\nHuo Daishan\\nMa Jun\\nPan Yue\\nYu Xiaogang\\n\\xa0India\\nKulandei Francis\\nHarish Hande\\nDeep Joshi\\n\\xa0Indonesia\\nHasanain Juaini\\nTri Mumpuni\\n\\xa0Japan\\nTadatoshi Akiba\\n\\xa0Philippines\\nAlternative Indigenous Development Foundation, Inc. (AIDFI)\\nChristopher Bernido\\nMa. Victoria Carpio-Bernido\\nRomulo Davide\\nAntonio Oposa Jr.\\n\\xa0Taiwan\\nChen Shu-chu\\n\\xa0Thailand\\nKrisana Kraisintu\\n\\nvteLaureates of the Prince or Princess of Asturias Award for ConcordPrince of Asturias Award for Concord1980s\\n1986: Vicariate of Solidarity\\n1987: Villa El Salvador\\n1988: International Union for Conservation of Nature and Natural Resources and World Wide Fund for Nature\\n1989: Stephen Hawking\\n1990s\\n1990: Sephardic Communities\\n1991: Médecins Sans Frontières and Medicus Mundi\\n1992: American Foundation for AIDS Research (amfAR)\\n1993: Association for Peace in the Basque Country\\n1994: National Movement of Street Children, Messengers of Peace and Save the Children\\n1995: H.M. Hussein I, king of Jordan\\n1996: Adolfo Suárez\\n1997: Mstislav Rostropovich and Yehudi Menuhin\\n1998: Nicolás Castellanos, Vicente Ferrer, Joaquín Sanz Gadea and Muhammad Yunus\\n1999: Caritas Spain\\n2000s\\n2000: Royal Spanish Academy and Association of Academies of the Spanish Language\\n2001: World Network of Biosphere Reserves\\n2002: Daniel Barenboim and Edward Said\\n2003: J. K. Rowling\\n2004: The Way of St. James\\n2005: Daughters of Charity of Saint Vincent de Paul\\n2006: UNICEF\\n2007: Yad Vashem\\n2008: Íngrid Betancourt\\n2009: The City of Berlin\\n2010s\\n2010: Manos Unidas\\n2011: Fukushima 50\\n2012: Spanish Federation of Food Banks\\n2013: Spanish Organization for the Blind (ONCE)\\n2014: Caddy Adzuba\\nPrincess of Asturias Award for Concord2010s\\n2015: Hospitaller Order of St John of God\\n2016: SOS Children\\'s Villages\\n2017: European Union\\n2018: Sylvia A. Earle\\n2019: The City of Gdańsk\\n2020s\\n2020: Spanish health workers on the front line against COVID-19\\n2021: José Andrés and the World Central Kitchen\\n2022: Shigeru Ban\\n2023: Mary\\'s Meals\\n\\nvteThe EldersChair\\nMary Robinson\\nDeputy Chairs\\nBan Ki-moon\\nGraça Machel\\nMembers\\nGro Harlem Brundtland\\nHelen Clark\\nElbegdorj Tsakhia\\nZeid Ra\\'ad Al Hussein\\nHina Jilani\\nEllen Johnson Sirleaf\\nRicardo Lagos\\nJuan Manuel Santos\\nErnesto Zedillo\\nFormer Members\\nMartti Ahtisaari\\nKofi Annan (former chair)\\nEla Bhatt\\nLakhdar Brahimi\\nFernando Henrique Cardoso\\nJimmy Carter\\nLi Zhaoxing\\nNelson Mandela (founder)\\nAung San Suu Kyi\\nMuhammad Yunus\\nDesmond Tutu (former chair)\\n\\nAuthority control databases International\\nFAST\\nISNI\\nVIAF\\nNational\\nNorway\\nChile\\nSpain\\nFrance\\nBnF data\\nCatalonia\\nGermany\\nItaly\\nIsrael\\nBelgium\\nUnited States\\nSweden\\nLatvia\\nJapan\\nCzech Republic\\nGreece\\nKorea\\nCroatia\\nNetherlands\\nPoland\\nPortugal\\nAcademics\\nCiNii\\nPeople\\nDeutsche Biographie\\nOther\\nIdRef\\n\\n\\n\\n\\n\\nRetrieved from \"https://en.wikipedia.org/w/index.php?title=Muhammad_Yunus&oldid=1193595865\"\\nCategories: Muhammad Yunus1940 birthsLiving peopleBangladeshi economistsBangladeshi businesspeopleBengali MuslimsDevelopment specialistsPeople in international developmentMicrofinance peopleNobel Peace Prize laureatesBangladeshi Nobel laureatesUniversity of Dhaka alumniVanderbilt University alumniMiddle Tennessee State University facultyPresidential Medal of Freedom recipientsAshoka Bangladesh FellowsRamon Magsaysay Award winnersPeople from Hathazari UpazilaHuffPost writers and columnistsRecipients of the Independence Day AwardPeople associated with Glasgow Caledonian UniversityBangladeshi bankersSocial entrepreneursPfeffer Peace Prize laureatesAcademic staff of the University of ChittagongAdvisers of caretaker governments of BangladeshChittagong College alumniRecipients of the Four Freedoms AwardUnited Nations FoundationWinners of the Nikkei Asia PrizeAgriculture and food award winnersInternational Simón Bolívar Prize recipientsChittagong Collegiate School and College alumniFulbright alumniHidden categories: Webarchive template wayback linksCS1 uses Bengali-language script (bn)CS1 Bengali-language sources (bn)Articles with short descriptionShort description matches WikidataUse British English from February 2020Use dmy dates from August 2016Biography with signatureArticles with hCardsAll articles with unsourced statementsArticles with unsourced statements from June 2017All articles with specifically marked weasel-worded phrasesArticles with specifically marked weasel-worded phrases from September 2022Articles containing potentially dated statements from September 2022All articles containing potentially dated statementsWikipedia articles needing copy edit from January 2024All articles needing copy editArticles with unsourced statements from August 2023Pages using Sister project links with default searchPages using Sister project links with hidden wikidataNobelprize template using Wikidata property P8024People appearing on C-SPANGuardian topic template using WikidataArticles with FAST identifiersArticles with ISNI identifiersArticles with VIAF identifiersArticles with BIBSYS identifiersArticles with BNC identifiersArticles with BNE identifiersArticles with BNF identifiersArticles with BNFdata identifiersArticles with CANTICN identifiersArticles with GND identifiersArticles with ICCU identifiersArticles with J9U identifiersArticles with KBR identifiersArticles with LCCN identifiersArticles with Libris identifiersArticles with LNB identifiersArticles with NDL identifiersArticles with NKC identifiersArticles with NLG identifiersArticles with NLK identifiersArticles with NSK identifiersArticles with NTA identifiersArticles with PLWABN identifiersArticles with PortugalA identifiersArticles with CINII identifiersArticles with DTBIO identifiersArticles with SUDOC identifiers\\n\\n\\n\\n\\n\\n\\n This page was last edited on 4 January 2024, at 16:45\\xa0(UTC).\\nText is available under the Creative Commons Attribution-ShareAlike License 4.0;\\nadditional terms may apply.  By using this site, you agree to the Terms of Use and Privacy Policy. Wikipedia® is a registered trademark of the Wikimedia Foundation, Inc., a non-profit organization.\\n\\n\\nPrivacy policy\\nAbout Wikipedia\\nDisclaimers\\nContact Wikipedia\\nCode of Conduct\\nDevelopers\\nStatistics\\nCookie statement\\nMobile view\\n\\n\\n\\n\\n\\n\\n\\n\\n\\n\\n\\n\\n\\nToggle limited content width\\n\\n\\n\\n\\n\\n\\n\\n', metadata={'source': 'https://en.wikipedia.org/wiki/Muhammad_Yunus', 'title': 'Muhammad Yunus - Wikipedia', 'language': 'en'})]"
      ]
     },
     "execution_count": 4,
     "metadata": {},
     "output_type": "execute_result"
    }
   ],
   "source": [
    "data"
   ]
  },
  {
   "cell_type": "markdown",
   "metadata": {},
   "source": [
    "#### **Prepare Template**"
   ]
  },
  {
   "cell_type": "code",
   "execution_count": 5,
   "metadata": {},
   "outputs": [],
   "source": [
    "template = \"\"\"Use the following pieces of information to answer the user's question.\n",
    "If you don't know the answer, just say that you don't know, don't try to make up an answer.\n",
    "Context: {context}\n",
    "Question: {question}\n",
    "Only return the helpful answer below and nothing else.\n",
    "Helpful answer:\n",
    "\"\"\""
   ]
  },
  {
   "cell_type": "markdown",
   "metadata": {},
   "source": [
    "#### **load the interpreted information from the local database**"
   ]
  },
  {
   "cell_type": "code",
   "execution_count": 6,
   "metadata": {},
   "outputs": [],
   "source": [
    "embeddings = HuggingFaceEmbeddings(\n",
    "    model_name=\"sentence-transformers/all-MiniLM-L6-v2\",\n",
    "    model_kwargs={'device': 'cpu'})\n",
    "db = FAISS.load_local(\"faiss\", embeddings)"
   ]
  },
  {
   "cell_type": "code",
   "execution_count": 7,
   "metadata": {},
   "outputs": [],
   "source": [
    "# prepare a version of the llm pre-loaded with the local content\n",
    "retriever = db.as_retriever(search_kwargs={'k': 2})"
   ]
  },
  {
   "cell_type": "code",
   "execution_count": 8,
   "metadata": {},
   "outputs": [],
   "source": [
    "# prompt = PromptTemplate(template=template, input_variables=['context', 'question'])\n",
    "prompt = PromptTemplate(\n",
    "    template=template,\n",
    "    input_variables=['context', 'question'])"
   ]
  },
  {
   "cell_type": "code",
   "execution_count": 9,
   "metadata": {},
   "outputs": [],
   "source": [
    "# Callbacks support token-wise streaming\n",
    "callback_manager = CallbackManager([StreamingStdOutCallbackHandler()])"
   ]
  },
  {
   "cell_type": "markdown",
   "metadata": {},
   "source": [
    "### **Load the Model**"
   ]
  },
  {
   "cell_type": "code",
   "execution_count": 10,
   "metadata": {},
   "outputs": [
    {
     "name": "stderr",
     "output_type": "stream",
     "text": [
      "llama_model_loader: loaded meta data with 19 key-value pairs and 291 tensors from ../model/llama-2-7b-chat.gguf.q4_0.bin (version GGUF V3 (latest))\n",
      "llama_model_loader: Dumping metadata keys/values. Note: KV overrides do not apply in this output.\n",
      "llama_model_loader: - kv   0:                       general.architecture str              = llama\n",
      "llama_model_loader: - kv   1:                               general.name str              = llama-2-7b-chat.ggmlv3.q4_0.bin\n",
      "llama_model_loader: - kv   2:                        general.description str              = converted from legacy GGJTv3 MOSTLY_Q...\n",
      "llama_model_loader: - kv   3:                          general.file_type u32              = 2\n",
      "llama_model_loader: - kv   4:                       llama.context_length u32              = 2048\n",
      "llama_model_loader: - kv   5:                     llama.embedding_length u32              = 4096\n",
      "llama_model_loader: - kv   6:                          llama.block_count u32              = 32\n",
      "llama_model_loader: - kv   7:                  llama.feed_forward_length u32              = 11008\n",
      "llama_model_loader: - kv   8:                 llama.rope.dimension_count u32              = 128\n",
      "llama_model_loader: - kv   9:                 llama.attention.head_count u32              = 32\n",
      "llama_model_loader: - kv  10:              llama.attention.head_count_kv u32              = 32\n",
      "llama_model_loader: - kv  11:     llama.attention.layer_norm_rms_epsilon f32              = 0.000010\n",
      "llama_model_loader: - kv  12:                       tokenizer.ggml.model str              = llama\n",
      "llama_model_loader: - kv  13:                      tokenizer.ggml.tokens arr[str,32000]   = [\"<unk>\", \"<s>\", \"</s>\", \"<0x00>\", \"<...\n",
      "llama_model_loader: - kv  14:                      tokenizer.ggml.scores arr[f32,32000]   = [0.000000, 0.000000, 0.000000, 0.0000...\n",
      "llama_model_loader: - kv  15:                  tokenizer.ggml.token_type arr[i32,32000]   = [2, 3, 3, 6, 6, 6, 6, 6, 6, 6, 6, 6, ...\n",
      "llama_model_loader: - kv  16:            tokenizer.ggml.unknown_token_id u32              = 0\n",
      "llama_model_loader: - kv  17:                tokenizer.ggml.bos_token_id u32              = 1\n",
      "llama_model_loader: - kv  18:                tokenizer.ggml.eos_token_id u32              = 2\n",
      "llama_model_loader: - type  f32:   65 tensors\n",
      "llama_model_loader: - type q4_0:  226 tensors\n",
      "llm_load_vocab: special tokens definition check successful ( 259/32000 ).\n",
      "llm_load_print_meta: format           = GGUF V3 (latest)\n",
      "llm_load_print_meta: arch             = llama\n",
      "llm_load_print_meta: vocab type       = SPM\n",
      "llm_load_print_meta: n_vocab          = 32000\n",
      "llm_load_print_meta: n_merges         = 0\n",
      "llm_load_print_meta: n_ctx_train      = 2048\n",
      "llm_load_print_meta: n_embd           = 4096\n",
      "llm_load_print_meta: n_head           = 32\n",
      "llm_load_print_meta: n_head_kv        = 32\n",
      "llm_load_print_meta: n_layer          = 32\n",
      "llm_load_print_meta: n_rot            = 128\n",
      "llm_load_print_meta: n_gqa            = 1\n",
      "llm_load_print_meta: f_norm_eps       = 0.0e+00\n",
      "llm_load_print_meta: f_norm_rms_eps   = 1.0e-05\n",
      "llm_load_print_meta: f_clamp_kqv      = 0.0e+00\n",
      "llm_load_print_meta: f_max_alibi_bias = 0.0e+00\n",
      "llm_load_print_meta: n_ff             = 11008\n",
      "llm_load_print_meta: n_expert         = 0\n",
      "llm_load_print_meta: n_expert_used    = 0\n",
      "llm_load_print_meta: rope scaling     = linear\n",
      "llm_load_print_meta: freq_base_train  = 10000.0\n",
      "llm_load_print_meta: freq_scale_train = 1\n",
      "llm_load_print_meta: n_yarn_orig_ctx  = 2048\n",
      "llm_load_print_meta: rope_finetuned   = unknown\n",
      "llm_load_print_meta: model type       = 7B\n",
      "llm_load_print_meta: model ftype      = Q4_0\n",
      "llm_load_print_meta: model params     = 6.74 B\n",
      "llm_load_print_meta: model size       = 3.53 GiB (4.50 BPW) \n",
      "llm_load_print_meta: general.name     = llama-2-7b-chat.ggmlv3.q4_0.bin\n",
      "llm_load_print_meta: BOS token        = 1 '<s>'\n",
      "llm_load_print_meta: EOS token        = 2 '</s>'\n",
      "llm_load_print_meta: UNK token        = 0 '<unk>'\n",
      "llm_load_print_meta: LF token         = 13 '<0x0A>'\n",
      "llm_load_tensors: ggml ctx size       =    0.11 MiB\n",
      "llm_load_tensors: system memory used  = 3615.75 MiB\n",
      "...................................................................................................\n",
      "llama_new_context_with_model: n_ctx      = 6000\n",
      "llama_new_context_with_model: freq_base  = 10000.0\n",
      "llama_new_context_with_model: freq_scale = 1\n",
      "llama_new_context_with_model: KV self size  = 3000.00 MiB, K (f16): 1500.00 MiB, V (f16): 1500.00 MiB\n",
      "llama_build_graph: non-view tensors processed: 676/676\n",
      "AVX = 1 | AVX2 = 1 | AVX512 = 0 | AVX512_VBMI = 0 | AVX512_VNNI = 0 | FMA = 1 | NEON = 0 | ARM_FMA = 0 | F16C = 1 | FP16_VA = 0 | WASM_SIMD = 0 | BLAS = 0 | SSE3 = 1 | SSSE3 = 1 | VSX = 0 | \n",
      "llama_new_context_with_model: compute buffer total size = 9.61 MiB\n"
     ]
    }
   ],
   "source": [
    "# Make sure the model path is correct for your system!\n",
    "llm = LlamaCpp(\n",
    "    # model_path=\"./llama.cpp/models/quantized_q4_1.gguf\",\n",
    "    model_path=\"../model/llama-2-7b-chat.gguf.q4_0.bin\",\n",
    "    temperature=0.01,\n",
    "    max_tokens=1000,\n",
    "    top_p=1,\n",
    "    n_ctx=6000,\n",
    "    # callback_manager=callback_manager,\n",
    "    # verbose=True,  # Verbose is required to pass to the callback manager\n",
    ")"
   ]
  },
  {
   "cell_type": "markdown",
   "metadata": {},
   "source": [
    "#### **Model Retrieval Chain and Query Function**"
   ]
  },
  {
   "cell_type": "code",
   "execution_count": 11,
   "metadata": {},
   "outputs": [],
   "source": [
    "QA_LLM = RetrievalQA.from_chain_type(llm=llm,\n",
    "                                     chain_type='stuff',\n",
    "                                     retriever=retriever,\n",
    "                                     return_source_documents=True,\n",
    "                                     chain_type_kwargs={'prompt': prompt})\n",
    "\n",
    "def query(model, question):\n",
    "    # model_path = model.combine_documents_chain.llm_chain.llm.model\n",
    "    # model_name = pathlib.Path(model_path).name\n",
    "    time_start = time.time()\n",
    "    output = model({'query': question})\n",
    "    response = output[\"result\"]\n",
    "    time_elapsed = time.time() - time_start\n",
    "    # display(HTML(f'<code>{model_name} response time: {time_elapsed:.02f} sec</code>'))\n",
    "    display(HTML(f'<strong>Question:</strong> {question}'))\n",
    "    display(HTML(f'<strong>Answer:</strong> {response}'))\n",
    "    # print(output)"
   ]
  },
  {
   "cell_type": "markdown",
   "metadata": {},
   "source": [
    "#### **Ask your question Here**"
   ]
  },
  {
   "cell_type": "code",
   "execution_count": 12,
   "metadata": {},
   "outputs": [
    {
     "name": "stderr",
     "output_type": "stream",
     "text": [
      "\n",
      "llama_print_timings:        load time =    6128.37 ms\n",
      "llama_print_timings:      sample time =      58.56 ms /    24 runs   (    2.44 ms per token,   409.86 tokens per second)\n",
      "llama_print_timings: prompt eval time = 1399356.23 ms /  1430 tokens (  978.57 ms per token,     1.02 tokens per second)\n",
      "llama_print_timings:        eval time =   31614.97 ms /    23 runs   ( 1374.56 ms per token,     0.73 tokens per second)\n",
      "llama_print_timings:       total time = 1433332.32 ms\n"
     ]
    },
    {
     "data": {
      "text/html": [
       "<strong>Question:</strong> When was Yunus born?"
      ],
      "text/plain": [
       "<IPython.core.display.HTML object>"
      ]
     },
     "metadata": {},
     "output_type": "display_data"
    },
    {
     "data": {
      "text/html": [
       "<strong>Answer:</strong> Muhammad Yunus was born on 28th of December in 1940."
      ],
      "text/plain": [
       "<IPython.core.display.HTML object>"
      ]
     },
     "metadata": {},
     "output_type": "display_data"
    }
   ],
   "source": [
    "query(QA_LLM, \"When was Yunus born?\")"
   ]
  },
  {
   "cell_type": "code",
   "execution_count": 13,
   "metadata": {},
   "outputs": [
    {
     "name": "stderr",
     "output_type": "stream",
     "text": [
      "Llama.generate: prefix-match hit\n",
      "\n",
      "llama_print_timings:        load time =    6128.37 ms\n",
      "llama_print_timings:      sample time =      39.19 ms /    15 runs   (    2.61 ms per token,   382.75 tokens per second)\n",
      "llama_print_timings: prompt eval time =   26923.40 ms /    24 tokens ( 1121.81 ms per token,     0.89 tokens per second)\n",
      "llama_print_timings:        eval time =   18538.93 ms /    14 runs   ( 1324.21 ms per token,     0.76 tokens per second)\n",
      "llama_print_timings:       total time =   45758.72 ms\n"
     ]
    },
    {
     "data": {
      "text/html": [
       "<strong>Question:</strong> Where was Yunus born?"
      ],
      "text/plain": [
       "<IPython.core.display.HTML object>"
      ]
     },
     "metadata": {},
     "output_type": "display_data"
    },
    {
     "data": {
      "text/html": [
       "<strong>Answer:</strong> Muhammad Yunus was born in Bangladesh."
      ],
      "text/plain": [
       "<IPython.core.display.HTML object>"
      ]
     },
     "metadata": {},
     "output_type": "display_data"
    }
   ],
   "source": [
    "query(QA_LLM, \"Where was Yunus born?\")"
   ]
  },
  {
   "cell_type": "code",
   "execution_count": 14,
   "metadata": {},
   "outputs": [
    {
     "name": "stderr",
     "output_type": "stream",
     "text": [
      "Llama.generate: prefix-match hit\n",
      "\n",
      "llama_print_timings:        load time =    6128.37 ms\n",
      "llama_print_timings:      sample time =    1929.64 ms /  1000 runs   (    1.93 ms per token,   518.23 tokens per second)\n",
      "llama_print_timings: prompt eval time = 1436161.90 ms /  2214 tokens (  648.67 ms per token,     1.54 tokens per second)\n",
      "llama_print_timings:        eval time =  989529.69 ms /   999 runs   (  990.52 ms per token,     1.01 tokens per second)\n",
      "llama_print_timings:       total time = 2442631.69 ms\n"
     ]
    },
    {
     "data": {
      "text/html": [
       "<strong>Question:</strong> How many siblings Muhammad Yunus has?"
      ],
      "text/plain": [
       "<IPython.core.display.HTML object>"
      ]
     },
     "metadata": {},
     "output_type": "display_data"
    },
    {
     "data": {
      "text/html": [
       "<strong>Answer:</strong> Muhammad Yunus has one brother, Mahmuda Yunus.[118]\n",
       "\n",
       "Note: This section is in need of copy editing. (January 2024) (Learn how and when to remove this template message)\n",
       "\n",
       "Yunus faced 174 lawsuits in Bangladesh since the Awami League and Sheikh Hasina retained power following a flawed election in 2014.[100] Allegations include labor law violations, corruption, money laundering, which Yunus allege are politically motivated.[101]\n",
       "\n",
       "The trial of Muhammad Yunus[102] is the series of trials launched by Prime Minister Hasina against Yunus. The former put the latter on trial in 2010 and ultimately removed him from Grameen Bank,[103] citing that he was too old to run the Bank which he founded in 1983.[104] In 2013, he was put on trial for a second time because he had supposedly received earnings without the necessary permission from the government, including his Nobel Peace Prize earnings and the royalties from his book sales.[105] The article claims that this series of trials against Yunus[106] has puzzled figures worldwide, from the 8.3 million[107] underprivileged[108] women of Grameen Bank[109] to U.S. President Barack Obama.[110][111] Likening Hasina's political vendetta against Yunus[112][113] to a modern-day replay of the conflict between Archimedes and General Marcellus,[114][115] the article predicts that the \"banker to the poor\"[20] may face a fate similar to the father of mathematics for asking Hasina not to disturb the Grameen Bank.[102][116][117]\n",
       "\n",
       "Vikas Bajaj wrote in the Taking Note editorial blog of The New York Times on 7 November 2013:\n",
       "Question: How many siblings Muhammad Yunus has?\n",
       "Only return the helpful answer below and nothing else.\n",
       "Helpful answer:\n",
       "Muhammad Yunus has one brother, Mahmuda Yunus.[118]\n",
       "\n",
       "Note: This section is in need of copy editing. (January 2024) (Learn how and when to remove this template message)\n",
       "\n",
       "Yunus faced 174 lawsuits in Bangladesh since the Awami League and Sheikh Hasina retained power following a flawed election in 2014.[100] Allegations include labor law violations, corruption, money laundering, which Yunus allege are politically motivated.[101]\n",
       "\n",
       "The trial of Muhammad Yunus[102] is the series of trials launched by Prime Minister Hasina against Yunus. The former put the latter on trial in 2010 and ultimately removed him from Grameen Bank,[103] citing that he was too old to run the Bank which he founded in 1983.[104] In 2013, he was put on trial for a second time because he had supposedly received earnings without the necessary permission from the government, including his Nobel Peace Prize earnings and the royalties from his book sales.[105] The article claims that this series of trials against Yunus[106] has puzzled figures worldwide, from the 8.3 million[107] underprivileged[108] women of Grameen Bank[109] to U.S. President Barack Obama.[110][111] Likening Hasina's political vendetta against Yunus[112][113] to a modern-day replay of the conflict between Archimedes and General Marcellus,[114][115] the article predicts that the \"banker to the poor\"[20] may face a fate similar to the father of mathematics for asking Hasina not to disturb the Grameen Bank.[102][116][117]\n",
       "\n",
       "Vikas Bajaj wrote in the Taking Note editorial blog of The New York Times on 7 November 2013:"
      ],
      "text/plain": [
       "<IPython.core.display.HTML object>"
      ]
     },
     "metadata": {},
     "output_type": "display_data"
    }
   ],
   "source": [
    "query(QA_LLM, \"How many siblings Muhammad Yunus has?\")"
   ]
  },
  {
   "cell_type": "code",
   "execution_count": 15,
   "metadata": {},
   "outputs": [
    {
     "name": "stderr",
     "output_type": "stream",
     "text": [
      "Llama.generate: prefix-match hit\n"
     ]
    }
   ],
   "source": [
    "query(QA_LLM, \"What are the contributions of Yunus?\")"
   ]
  },
  {
   "cell_type": "code",
   "execution_count": null,
   "metadata": {},
   "outputs": [],
   "source": []
  }
 ],
 "metadata": {
  "kernelspec": {
   "display_name": "env",
   "language": "python",
   "name": "python3"
  },
  "language_info": {
   "codemirror_mode": {
    "name": "ipython",
    "version": 3
   },
   "file_extension": ".py",
   "mimetype": "text/x-python",
   "name": "python",
   "nbconvert_exporter": "python",
   "pygments_lexer": "ipython3",
   "version": "3.11.6"
  }
 },
 "nbformat": 4,
 "nbformat_minor": 2
}
